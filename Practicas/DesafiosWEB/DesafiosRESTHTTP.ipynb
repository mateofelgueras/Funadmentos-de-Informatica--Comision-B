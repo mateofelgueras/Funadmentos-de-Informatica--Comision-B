{
 "cells": [
  {
   "cell_type": "markdown",
   "metadata": {},
   "source": [
    "**PRIMEROS PEDIDOS**"
   ]
  },
  {
   "cell_type": "code",
   "execution_count": 15,
   "metadata": {},
   "outputs": [
    {
     "data": {
      "text/plain": [
       "{'id': 1, 'tipo': 'pantalon', 'talle': 35}"
      ]
     },
     "execution_count": 15,
     "metadata": {},
     "output_type": "execute_result"
    }
   ],
   "source": [
    "import requests\n",
    "r = requests.get('https://macowins-server.herokuapp.com/prendas/1')\n",
    "r.json()\n"
   ]
  },
  {
   "cell_type": "markdown",
   "metadata": {},
   "source": [
    "DESAFIO I: Hacé otro pedido para traer a la prenda 20. Deberías obtener el siguiente resultado:\n",
    "{\n",
    "  \"id\": 20,\n",
    "  \"tipo\": \"saco\",\n",
    "  \"talle\": \"XL\"\n",
    "}"
   ]
  },
  {
   "cell_type": "code",
   "execution_count": 3,
   "metadata": {},
   "outputs": [
    {
     "data": {
      "text/plain": [
       "{'id': 20, 'tipo': 'saco', 'talle': 'XL'}"
      ]
     },
     "execution_count": 3,
     "metadata": {},
     "output_type": "execute_result"
    }
   ],
   "source": [
    "import requests\n",
    "r1=requests.get(\"https://macowins-server.herokuapp.com/prendas/20\")\n",
    "r1.json()"
   ]
  },
  {
   "cell_type": "markdown",
   "metadata": {},
   "source": [
    "¿Qué características tiene este formato? ¿Qué tipo de datos puede soportar? ¿por qué devolver JSON? ¿Quién puede leerlo? ¿A quién le sirve? JSON\n"
   ]
  },
  {
   "cell_type": "markdown",
   "metadata": {},
   "source": [
    "El formato tiene la caracteristica de acoplar datos, se usa para el intercambio de datos, puede soportar distintos datos como: Strings, numeros, booleanos y null, aparte de objetos y arrays. Es de facil lectura por su forma para humanos y se puede leer con python, JavaScript entre otros."
   ]
  },
  {
   "cell_type": "markdown",
   "metadata": {},
   "source": [
    "**CODIGOS DE RESPUESTA**\n"
   ]
  },
  {
   "cell_type": "markdown",
   "metadata": {},
   "source": [
    "Desafío II: ¡averigualo! Hacé requests.get('https://macowins-server.herokuapp.com/prendas/400') y observá qué sucede."
   ]
  },
  {
   "cell_type": "code",
   "execution_count": 10,
   "metadata": {},
   "outputs": [
    {
     "data": {
      "text/plain": [
       "<Response [404]>"
      ]
     },
     "execution_count": 10,
     "metadata": {},
     "output_type": "execute_result"
    }
   ],
   "source": [
    "import requests\n",
    "r=requests.get('https://macowins-server.herokuapp.com/prendas/400')\n",
    "r.json()"
   ]
  },
  {
   "cell_type": "code",
   "execution_count": 11,
   "metadata": {},
   "outputs": [
    {
     "data": {
      "text/plain": [
       "{'Server': 'Cowboy', 'Connection': 'keep-alive', 'X-Powered-By': 'Express', 'Expires': '-1', 'Content-Type': 'text/html; charset=utf-8', 'Content-Length': '0', 'Etag': 'W/\"0-2jmj7l5rSw0yVb/vlWAYkK/YBwk\"', 'Vary': 'Accept-Encoding', 'Date': 'Mon, 20 Jun 2022 20:45:36 GMT', 'Via': '1.1 vegur'}"
      ]
     },
     "execution_count": 11,
     "metadata": {},
     "output_type": "execute_result"
    }
   ],
   "source": [
    "import requests\n",
    "r=requests.get('https://macowins-server.herokuapp.com/prendas/400')\n",
    "r.headers"
   ]
  },
  {
   "cell_type": "code",
   "execution_count": 51,
   "metadata": {},
   "outputs": [
    {
     "data": {
      "text/plain": [
       "404"
      ]
     },
     "execution_count": 51,
     "metadata": {},
     "output_type": "execute_result"
    }
   ],
   "source": [
    "import requests\n",
    "r=requests.get('https://macowins-server.herokuapp.com/prendas/400')\n",
    "r.status_code"
   ]
  },
  {
   "cell_type": "markdown",
   "metadata": {},
   "source": [
    "Desafío III: contrastá con lo que sucede al hacer get de 'https://macowins-server.herokuapp.com/prendas/1' ¿Qué te devuelve el método headers? ¿Qué status_code obtenes?"
   ]
  },
  {
   "cell_type": "code",
   "execution_count": 18,
   "metadata": {},
   "outputs": [
    {
     "data": {
      "text/plain": [
       "{'Server': 'Cowboy', 'Connection': 'keep-alive', 'X-Powered-By': 'Express', 'Expires': '-1', 'Content-Type': 'application/json; charset=utf-8', 'Content-Length': '50', 'Etag': 'W/\"32-i8e+gZ5GUBVXp/2hTq5pj1i9+f8\"', 'Vary': 'Accept-Encoding', 'Date': 'Mon, 20 Jun 2022 20:52:08 GMT', 'Via': '1.1 vegur'}"
      ]
     },
     "execution_count": 18,
     "metadata": {},
     "output_type": "execute_result"
    }
   ],
   "source": [
    "import requests\n",
    "r=requests.get(\"https://macowins-server.herokuapp.com/prendas/1\")\n",
    "r.headers"
   ]
  },
  {
   "cell_type": "markdown",
   "metadata": {},
   "source": [
    "Las cabeceras de la respuesta están accesibles a través del atributo headers. Este atributo es un diccionario especial que contiene cada una de las cabeceras devueltas como claves del diccionario."
   ]
  },
  {
   "cell_type": "code",
   "execution_count": 20,
   "metadata": {},
   "outputs": [
    {
     "data": {
      "text/plain": [
       "200"
      ]
     },
     "execution_count": 20,
     "metadata": {},
     "output_type": "execute_result"
    }
   ],
   "source": [
    "import requests\n",
    "r=requests.get(\"https://macowins-server.herokuapp.com/prendas/1\")\n",
    "r.status_code"
   ]
  },
  {
   "cell_type": "markdown",
   "metadata": {},
   "source": [
    "Se obtiene el status code 200. Indica que la solicitud a tenido exito."
   ]
  },
  {
   "cell_type": "markdown",
   "metadata": {},
   "source": [
    "Desafío IV: ¿y que sucederá si consultamos a una dirección que no existe, como por ejemplo https://macowins-server.herokuapp.com/prindas/1? ¡Averigualo!"
   ]
  },
  {
   "cell_type": "code",
   "execution_count": 23,
   "metadata": {},
   "outputs": [
    {
     "data": {
      "text/plain": [
       "404"
      ]
     },
     "execution_count": 23,
     "metadata": {},
     "output_type": "execute_result"
    }
   ],
   "source": [
    "import requests\n",
    "r=requests.get(\"https://macowins-server.herokuapp.com/prindas/1\")\n",
    "r.status_code"
   ]
  },
  {
   "cell_type": "code",
   "execution_count": 28,
   "metadata": {},
   "outputs": [
    {
     "data": {
      "text/plain": [
       "{'Server': 'Cowboy', 'Connection': 'keep-alive', 'X-Powered-By': 'Express', 'Vary': 'Origin, Accept-Encoding', 'Access-Control-Allow-Credentials': 'true', 'Cache-Control': 'no-cache', 'Pragma': 'no-cache', 'Expires': '-1', 'Content-Security-Policy': \"default-src 'none'\", 'X-Content-Type-Options': 'nosniff', 'Content-Type': 'text/html; charset=utf-8', 'Content-Length': '148', 'Date': 'Mon, 20 Jun 2022 21:23:37 GMT', 'Via': '1.1 vegur'}"
      ]
     },
     "execution_count": 28,
     "metadata": {},
     "output_type": "execute_result"
    }
   ],
   "source": [
    "r = requests.get('https://macowins-server.herokuapp.com/nueva-funcionalidad-que-a-veces-no-anda-bien')\n",
    "r.headers\n",
    "\n"
   ]
  },
  {
   "cell_type": "code",
   "execution_count": 25,
   "metadata": {},
   "outputs": [
    {
     "data": {
      "text/plain": [
       "b'<!DOCTYPE html>\\n<html lang=\"en\">\\n<head>\\n<meta charset=\"utf-8\">\\n<title>Error</title>\\n</head>\\n<body>\\n<pre>Internal Server Error</pre>\\n</body>\\n</html>\\n'"
      ]
     },
     "execution_count": 25,
     "metadata": {},
     "output_type": "execute_result"
    }
   ],
   "source": [
    "r = requests.get('https://macowins-server.herokuapp.com/nueva-funcionalidad-que-a-veces-no-anda-bien')\n",
    "r.content"
   ]
  },
  {
   "cell_type": "code",
   "execution_count": 26,
   "metadata": {},
   "outputs": [
    {
     "data": {
      "text/plain": [
       "500"
      ]
     },
     "execution_count": 26,
     "metadata": {},
     "output_type": "execute_result"
    }
   ],
   "source": [
    "r = requests.get('https://macowins-server.herokuapp.com/nueva-funcionalidad-que-a-veces-no-anda-bien')\n",
    "r.status_code"
   ]
  },
  {
   "cell_type": "markdown",
   "metadata": {},
   "source": [
    "El código de respuesta 500 Error Interno del Servidor del Protocolo de Transferencia de Hipertexto (HTTP) indica que el servidor encontró una condición inesperada que le impide completar la petición. Este código es una respuesta genérica"
   ]
  },
  {
   "cell_type": "markdown",
   "metadata": {},
   "source": [
    "**PARAMETROS**"
   ]
  },
  {
   "cell_type": "markdown",
   "metadata": {},
   "source": [
    " Desafío V: hacé requests.get('https://macowins-server.herokuapp.com/ventas') y requests.get('https://macowins-server.herokuapp.com/ventas/2)' y contrastá el resultado con tu respuesta anterior"
   ]
  },
  {
   "cell_type": "code",
   "execution_count": 41,
   "metadata": {},
   "outputs": [
    {
     "data": {
      "text/plain": [
       "[{'id': 1,\n",
       "  'producto': {'id': 9, 'tipo': 'pantalon', 'talle': 43},\n",
       "  'fecha': '1970-02-07T23:02:24.000Z'},\n",
       " {'id': 2,\n",
       "  'producto': {'id': 11, 'tipo': 'remera', 'talle': 'XS'},\n",
       "  'fecha': '1970-03-17T22:04:48.000Z'},\n",
       " {'id': 3,\n",
       "  'producto': {'id': 2, 'tipo': 'pantalon', 'talle': 36},\n",
       "  'fecha': '1970-04-24T21:07:12.000Z'},\n",
       " {'id': 4,\n",
       "  'producto': {'id': 13, 'tipo': 'remera', 'talle': 'M'},\n",
       "  'fecha': '1970-06-01T20:09:36.000Z'},\n",
       " {'id': 5,\n",
       "  'producto': {'id': 9, 'tipo': 'pantalon', 'talle': 43},\n",
       "  'fecha': '1970-07-09T19:12:00.000Z'},\n",
       " {'id': 6,\n",
       "  'producto': {'id': 6, 'tipo': 'pantalon', 'talle': 40},\n",
       "  'fecha': '1970-08-16T18:14:24.000Z'},\n",
       " {'id': 7,\n",
       "  'producto': {'id': 9, 'tipo': 'pantalon', 'talle': 43},\n",
       "  'fecha': '1970-09-23T17:16:48.000Z'},\n",
       " {'id': 8,\n",
       "  'producto': {'id': 13, 'tipo': 'remera', 'talle': 'M'},\n",
       "  'fecha': '1970-10-31T16:19:12.000Z'},\n",
       " {'id': 9,\n",
       "  'producto': {'id': 5, 'tipo': 'pantalon', 'talle': 39},\n",
       "  'fecha': '1970-12-08T15:21:36.000Z'},\n",
       " {'id': 10,\n",
       "  'producto': {'id': 11, 'tipo': 'remera', 'talle': 'XS'},\n",
       "  'fecha': '1971-01-15T14:24:00.000Z'},\n",
       " {'id': 11,\n",
       "  'producto': {'id': 2, 'tipo': 'pantalon', 'talle': 36},\n",
       "  'fecha': '1971-02-22T13:26:24.000Z'},\n",
       " {'id': 12,\n",
       "  'producto': {'id': 18, 'tipo': 'saco', 'talle': 'M', 'enStock': False},\n",
       "  'fecha': '1971-04-01T12:28:48.000Z'},\n",
       " {'id': 13,\n",
       "  'producto': {'id': 10, 'tipo': 'pantalon', 'talle': 44},\n",
       "  'fecha': '1971-05-09T11:31:12.000Z'},\n",
       " {'id': 14,\n",
       "  'producto': {'id': 14, 'tipo': 'remera', 'talle': 'L'},\n",
       "  'fecha': '1971-06-16T10:33:36.000Z'},\n",
       " {'id': 15,\n",
       "  'producto': {'id': 12, 'tipo': 'remera', 'talle': 'S'},\n",
       "  'fecha': '1971-07-24T09:36:00.000Z'},\n",
       " {'id': 16,\n",
       "  'producto': {'id': 13, 'tipo': 'remera', 'talle': 'M'},\n",
       "  'fecha': '1971-08-31T08:38:24.000Z'},\n",
       " {'id': 17,\n",
       "  'producto': {'id': 15, 'tipo': 'remera', 'talle': 'XL'},\n",
       "  'fecha': '1971-10-08T07:40:48.000Z'},\n",
       " {'id': 18,\n",
       "  'producto': {'id': 6, 'tipo': 'pantalon', 'talle': 40},\n",
       "  'fecha': '1971-11-15T06:43:12.000Z'},\n",
       " {'id': 19,\n",
       "  'producto': {'id': 2, 'tipo': 'pantalon', 'talle': 36},\n",
       "  'fecha': '1971-12-23T05:45:36.000Z'},\n",
       " {'id': 20,\n",
       "  'producto': {'id': 14, 'tipo': 'remera', 'talle': 'L'},\n",
       "  'fecha': '1972-01-30T04:48:00.000Z'},\n",
       " {'id': 21,\n",
       "  'producto': {'id': 6, 'tipo': 'pantalon', 'talle': 40},\n",
       "  'fecha': '1972-03-08T03:50:24.000Z'},\n",
       " {'id': 22,\n",
       "  'producto': {'id': 8, 'tipo': 'pantalon', 'talle': 42},\n",
       "  'fecha': '1972-04-15T02:52:48.000Z'},\n",
       " {'id': 23,\n",
       "  'producto': {'id': 7, 'tipo': 'pantalon', 'talle': 41},\n",
       "  'fecha': '1972-05-23T01:55:12.000Z'},\n",
       " {'id': 24,\n",
       "  'producto': {'id': 2, 'tipo': 'pantalon', 'talle': 36},\n",
       "  'fecha': '1972-06-30T00:57:36.000Z'},\n",
       " {'id': 25,\n",
       "  'producto': {'id': 4, 'tipo': 'pantalon', 'talle': 38},\n",
       "  'fecha': '1972-08-07T00:00:00.000Z'},\n",
       " {'id': 26,\n",
       "  'producto': {'id': 4, 'tipo': 'pantalon', 'talle': 38},\n",
       "  'fecha': '1972-09-13T23:02:24.000Z'},\n",
       " {'id': 27,\n",
       "  'producto': {'id': 7, 'tipo': 'pantalon', 'talle': 41},\n",
       "  'fecha': '1972-10-21T22:04:48.000Z'},\n",
       " {'id': 28,\n",
       "  'producto': {'id': 6, 'tipo': 'pantalon', 'talle': 40},\n",
       "  'fecha': '1972-11-28T21:07:12.000Z'},\n",
       " {'id': 29,\n",
       "  'producto': {'id': 10, 'tipo': 'pantalon', 'talle': 44},\n",
       "  'fecha': '1973-01-05T20:09:36.000Z'},\n",
       " {'id': 30,\n",
       "  'producto': {'id': 10, 'tipo': 'pantalon', 'talle': 44},\n",
       "  'fecha': '1973-02-12T19:12:00.000Z'},\n",
       " {'id': 31,\n",
       "  'producto': {'id': 5, 'tipo': 'pantalon', 'talle': 39},\n",
       "  'fecha': '1973-03-22T18:14:24.000Z'},\n",
       " {'id': 32,\n",
       "  'producto': {'id': 16, 'tipo': 'saco', 'talle': 'XS'},\n",
       "  'fecha': '1973-04-29T17:16:48.000Z'},\n",
       " {'id': 33,\n",
       "  'producto': {'id': 15, 'tipo': 'remera', 'talle': 'XL'},\n",
       "  'fecha': '1973-06-06T16:19:12.000Z'},\n",
       " {'id': 34,\n",
       "  'producto': {'id': 4, 'tipo': 'pantalon', 'talle': 38},\n",
       "  'fecha': '1973-07-14T15:21:36.000Z'},\n",
       " {'id': 35,\n",
       "  'producto': {'id': 4, 'tipo': 'pantalon', 'talle': 38},\n",
       "  'fecha': '1973-08-21T14:24:00.000Z'},\n",
       " {'id': 36,\n",
       "  'producto': {'id': 8, 'tipo': 'pantalon', 'talle': 42},\n",
       "  'fecha': '1973-09-28T13:26:24.000Z'},\n",
       " {'id': 37,\n",
       "  'producto': {'id': 18, 'tipo': 'saco', 'talle': 'M', 'enStock': False},\n",
       "  'fecha': '1973-11-05T12:28:48.000Z'},\n",
       " {'id': 38,\n",
       "  'producto': {'id': 10, 'tipo': 'pantalon', 'talle': 44},\n",
       "  'fecha': '1973-12-13T11:31:12.000Z'},\n",
       " {'id': 39,\n",
       "  'producto': {'id': 7, 'tipo': 'pantalon', 'talle': 41},\n",
       "  'fecha': '1974-01-20T10:33:36.000Z'},\n",
       " {'id': 40,\n",
       "  'producto': {'id': 19, 'tipo': 'saco', 'talle': 'L'},\n",
       "  'fecha': '1974-02-27T09:36:00.000Z'},\n",
       " {'id': 41,\n",
       "  'producto': {'id': 6, 'tipo': 'pantalon', 'talle': 40},\n",
       "  'fecha': '1974-04-06T08:38:24.000Z'},\n",
       " {'id': 42,\n",
       "  'producto': {'id': 19, 'tipo': 'saco', 'talle': 'L'},\n",
       "  'fecha': '1974-05-14T07:40:48.000Z'},\n",
       " {'id': 43,\n",
       "  'producto': {'id': 8, 'tipo': 'pantalon', 'talle': 42},\n",
       "  'fecha': '1974-06-21T06:43:12.000Z'},\n",
       " {'id': 44,\n",
       "  'producto': {'id': 14, 'tipo': 'remera', 'talle': 'L'},\n",
       "  'fecha': '1974-07-29T05:45:36.000Z'},\n",
       " {'id': 45,\n",
       "  'producto': {'id': 19, 'tipo': 'saco', 'talle': 'L'},\n",
       "  'fecha': '1974-09-05T04:48:00.000Z'},\n",
       " {'id': 46,\n",
       "  'producto': {'id': 18, 'tipo': 'saco', 'talle': 'M', 'enStock': False},\n",
       "  'fecha': '1974-10-13T03:50:24.000Z'},\n",
       " {'id': 47,\n",
       "  'producto': {'id': 20, 'tipo': 'saco', 'talle': 'XL'},\n",
       "  'fecha': '1974-11-20T02:52:48.000Z'},\n",
       " {'id': 48,\n",
       "  'producto': {'id': 20, 'tipo': 'saco', 'talle': 'XL'},\n",
       "  'fecha': '1974-12-28T01:55:12.000Z'},\n",
       " {'id': 49,\n",
       "  'producto': {'id': 5, 'tipo': 'pantalon', 'talle': 39},\n",
       "  'fecha': '1975-02-04T00:57:36.000Z'},\n",
       " {'id': 50,\n",
       "  'producto': {'id': 10, 'tipo': 'pantalon', 'talle': 44},\n",
       "  'fecha': '1975-03-14T00:00:00.000Z'},\n",
       " {'id': 51,\n",
       "  'producto': {'id': 5, 'tipo': 'pantalon', 'talle': 39},\n",
       "  'fecha': '1975-04-20T23:02:24.000Z'},\n",
       " {'id': 52,\n",
       "  'producto': {'id': 9, 'tipo': 'pantalon', 'talle': 43},\n",
       "  'fecha': '1975-05-28T22:04:48.000Z'},\n",
       " {'id': 53,\n",
       "  'producto': {'id': 7, 'tipo': 'pantalon', 'talle': 41},\n",
       "  'fecha': '1975-07-05T21:07:12.000Z'},\n",
       " {'id': 54,\n",
       "  'producto': {'id': 6, 'tipo': 'pantalon', 'talle': 40},\n",
       "  'fecha': '1975-08-12T20:09:36.000Z'},\n",
       " {'id': 55,\n",
       "  'producto': {'id': 4, 'tipo': 'pantalon', 'talle': 38},\n",
       "  'fecha': '1975-09-19T19:12:00.000Z'},\n",
       " {'id': 56,\n",
       "  'producto': {'id': 3, 'tipo': 'pantalon', 'talle': 37},\n",
       "  'fecha': '1975-10-27T18:14:24.000Z'},\n",
       " {'id': 57,\n",
       "  'producto': {'id': 17, 'tipo': 'saco', 'talle': 'S'},\n",
       "  'fecha': '1975-12-04T17:16:48.000Z'},\n",
       " {'id': 58,\n",
       "  'producto': {'id': 20, 'tipo': 'saco', 'talle': 'XL'},\n",
       "  'fecha': '1976-01-11T16:19:12.000Z'},\n",
       " {'id': 59,\n",
       "  'producto': {'id': 18, 'tipo': 'saco', 'talle': 'M', 'enStock': False},\n",
       "  'fecha': '1976-02-18T15:21:36.000Z'},\n",
       " {'id': 60,\n",
       "  'producto': {'id': 8, 'tipo': 'pantalon', 'talle': 42},\n",
       "  'fecha': '1976-03-27T14:24:00.000Z'},\n",
       " {'id': 61,\n",
       "  'producto': {'id': 16, 'tipo': 'saco', 'talle': 'XS'},\n",
       "  'fecha': '1976-05-04T13:26:24.000Z'},\n",
       " {'id': 62,\n",
       "  'producto': {'id': 2, 'tipo': 'pantalon', 'talle': 36},\n",
       "  'fecha': '1976-06-11T12:28:48.000Z'},\n",
       " {'id': 63,\n",
       "  'producto': {'id': 12, 'tipo': 'remera', 'talle': 'S'},\n",
       "  'fecha': '1976-07-19T11:31:12.000Z'},\n",
       " {'id': 64,\n",
       "  'producto': {'id': 14, 'tipo': 'remera', 'talle': 'L'},\n",
       "  'fecha': '1976-08-26T10:33:36.000Z'},\n",
       " {'id': 65,\n",
       "  'producto': {'id': 9, 'tipo': 'pantalon', 'talle': 43},\n",
       "  'fecha': '1976-10-03T09:36:00.000Z'},\n",
       " {'id': 66,\n",
       "  'producto': {'id': 20, 'tipo': 'saco', 'talle': 'XL'},\n",
       "  'fecha': '1976-11-10T08:38:24.000Z'},\n",
       " {'id': 67,\n",
       "  'producto': {'id': 19, 'tipo': 'saco', 'talle': 'L'},\n",
       "  'fecha': '1976-12-18T07:40:48.000Z'},\n",
       " {'id': 68,\n",
       "  'producto': {'id': 10, 'tipo': 'pantalon', 'talle': 44},\n",
       "  'fecha': '1977-01-25T06:43:12.000Z'},\n",
       " {'id': 69,\n",
       "  'producto': {'id': 2, 'tipo': 'pantalon', 'talle': 36},\n",
       "  'fecha': '1977-03-04T05:45:36.000Z'},\n",
       " {'id': 70,\n",
       "  'producto': {'id': 16, 'tipo': 'saco', 'talle': 'XS'},\n",
       "  'fecha': '1977-04-11T04:48:00.000Z'},\n",
       " {'id': 71,\n",
       "  'producto': {'id': 10, 'tipo': 'pantalon', 'talle': 44},\n",
       "  'fecha': '1977-05-19T03:50:24.000Z'},\n",
       " {'id': 72,\n",
       "  'producto': {'id': 14, 'tipo': 'remera', 'talle': 'L'},\n",
       "  'fecha': '1977-06-26T02:52:48.000Z'},\n",
       " {'id': 73,\n",
       "  'producto': {'id': 17, 'tipo': 'saco', 'talle': 'S'},\n",
       "  'fecha': '1977-08-03T01:55:12.000Z'},\n",
       " {'id': 74,\n",
       "  'producto': {'id': 11, 'tipo': 'remera', 'talle': 'XS'},\n",
       "  'fecha': '1977-09-10T00:57:36.000Z'},\n",
       " {'id': 75,\n",
       "  'producto': {'id': 4, 'tipo': 'pantalon', 'talle': 38},\n",
       "  'fecha': '1977-10-18T00:00:00.000Z'},\n",
       " {'id': 76,\n",
       "  'producto': {'id': 8, 'tipo': 'pantalon', 'talle': 42},\n",
       "  'fecha': '1977-11-24T23:02:24.000Z'},\n",
       " {'id': 77,\n",
       "  'producto': {'id': 7, 'tipo': 'pantalon', 'talle': 41},\n",
       "  'fecha': '1978-01-01T22:04:48.000Z'},\n",
       " {'id': 78,\n",
       "  'producto': {'id': 6, 'tipo': 'pantalon', 'talle': 40},\n",
       "  'fecha': '1978-02-08T21:07:12.000Z'},\n",
       " {'id': 79,\n",
       "  'producto': {'id': 10, 'tipo': 'pantalon', 'talle': 44},\n",
       "  'fecha': '1978-03-18T20:09:36.000Z'},\n",
       " {'id': 80,\n",
       "  'producto': {'id': 18, 'tipo': 'saco', 'talle': 'M', 'enStock': False},\n",
       "  'fecha': '1978-04-25T19:12:00.000Z'},\n",
       " {'id': 81,\n",
       "  'producto': {'id': 10, 'tipo': 'pantalon', 'talle': 44},\n",
       "  'fecha': '1978-06-02T18:14:24.000Z'},\n",
       " {'id': 82,\n",
       "  'producto': {'id': 4, 'tipo': 'pantalon', 'talle': 38},\n",
       "  'fecha': '1978-07-10T17:16:48.000Z'},\n",
       " {'id': 83,\n",
       "  'producto': {'id': 10, 'tipo': 'pantalon', 'talle': 44},\n",
       "  'fecha': '1978-08-17T16:19:12.000Z'},\n",
       " {'id': 84,\n",
       "  'producto': {'id': 17, 'tipo': 'saco', 'talle': 'S'},\n",
       "  'fecha': '1978-09-24T15:21:36.000Z'},\n",
       " {'id': 85,\n",
       "  'producto': {'id': 1, 'tipo': 'pantalon', 'talle': 35},\n",
       "  'fecha': '1978-11-01T14:24:00.000Z'},\n",
       " {'id': 86,\n",
       "  'producto': {'id': 19, 'tipo': 'saco', 'talle': 'L'},\n",
       "  'fecha': '1978-12-09T13:26:24.000Z'},\n",
       " {'id': 87,\n",
       "  'producto': {'id': 10, 'tipo': 'pantalon', 'talle': 44},\n",
       "  'fecha': '1979-01-16T12:28:48.000Z'},\n",
       " {'id': 88,\n",
       "  'producto': {'id': 4, 'tipo': 'pantalon', 'talle': 38},\n",
       "  'fecha': '1979-02-23T11:31:12.000Z'},\n",
       " {'id': 89,\n",
       "  'producto': {'id': 7, 'tipo': 'pantalon', 'talle': 41},\n",
       "  'fecha': '1979-04-02T10:33:36.000Z'},\n",
       " {'id': 90,\n",
       "  'producto': {'id': 11, 'tipo': 'remera', 'talle': 'XS'},\n",
       "  'fecha': '1979-05-10T09:36:00.000Z'},\n",
       " {'id': 91,\n",
       "  'producto': {'id': 12, 'tipo': 'remera', 'talle': 'S'},\n",
       "  'fecha': '1979-06-17T08:38:24.000Z'},\n",
       " {'id': 92,\n",
       "  'producto': {'id': 11, 'tipo': 'remera', 'talle': 'XS'},\n",
       "  'fecha': '1979-07-25T07:40:48.000Z'},\n",
       " {'id': 93,\n",
       "  'producto': {'id': 17, 'tipo': 'saco', 'talle': 'S'},\n",
       "  'fecha': '1979-09-01T06:43:12.000Z'},\n",
       " {'id': 94,\n",
       "  'producto': {'id': 15, 'tipo': 'remera', 'talle': 'XL'},\n",
       "  'fecha': '1979-10-09T05:45:36.000Z'},\n",
       " {'id': 95,\n",
       "  'producto': {'id': 7, 'tipo': 'pantalon', 'talle': 41},\n",
       "  'fecha': '1979-11-16T04:48:00.000Z'},\n",
       " {'id': 96,\n",
       "  'producto': {'id': 16, 'tipo': 'saco', 'talle': 'XS'},\n",
       "  'fecha': '1979-12-24T03:50:24.000Z'},\n",
       " {'id': 97,\n",
       "  'producto': {'id': 15, 'tipo': 'remera', 'talle': 'XL'},\n",
       "  'fecha': '1980-01-31T02:52:48.000Z'},\n",
       " {'id': 98,\n",
       "  'producto': {'id': 14, 'tipo': 'remera', 'talle': 'L'},\n",
       "  'fecha': '1980-03-09T01:55:12.000Z'},\n",
       " {'id': 99,\n",
       "  'producto': {'id': 4, 'tipo': 'pantalon', 'talle': 38},\n",
       "  'fecha': '1980-04-16T00:57:36.000Z'},\n",
       " {'id': 100,\n",
       "  'producto': {'id': 11, 'tipo': 'remera', 'talle': 'XS'},\n",
       "  'fecha': '1980-05-24T00:00:00.000Z'},\n",
       " {'id': 101,\n",
       "  'producto': {'id': 20, 'tipo': 'saco', 'talle': 'XL'},\n",
       "  'fecha': '1980-06-30T23:02:24.000Z'},\n",
       " {'id': 102,\n",
       "  'producto': {'id': 13, 'tipo': 'remera', 'talle': 'M'},\n",
       "  'fecha': '1980-08-07T22:04:48.000Z'},\n",
       " {'id': 103,\n",
       "  'producto': {'id': 8, 'tipo': 'pantalon', 'talle': 42},\n",
       "  'fecha': '1980-09-14T21:07:12.000Z'},\n",
       " {'id': 104,\n",
       "  'producto': {'id': 18, 'tipo': 'saco', 'talle': 'M', 'enStock': False},\n",
       "  'fecha': '1980-10-22T20:09:36.000Z'},\n",
       " {'id': 105,\n",
       "  'producto': {'id': 6, 'tipo': 'pantalon', 'talle': 40},\n",
       "  'fecha': '1980-11-29T19:12:00.000Z'},\n",
       " {'id': 106,\n",
       "  'producto': {'id': 18, 'tipo': 'saco', 'talle': 'M', 'enStock': False},\n",
       "  'fecha': '1981-01-06T18:14:24.000Z'},\n",
       " {'id': 107,\n",
       "  'producto': {'id': 1, 'tipo': 'pantalon', 'talle': 35},\n",
       "  'fecha': '1981-02-13T17:16:48.000Z'},\n",
       " {'id': 108,\n",
       "  'producto': {'id': 15, 'tipo': 'remera', 'talle': 'XL'},\n",
       "  'fecha': '1981-03-23T16:19:12.000Z'},\n",
       " {'id': 109,\n",
       "  'producto': {'id': 16, 'tipo': 'saco', 'talle': 'XS'},\n",
       "  'fecha': '1981-04-30T15:21:36.000Z'},\n",
       " {'id': 110,\n",
       "  'producto': {'id': 9, 'tipo': 'pantalon', 'talle': 43},\n",
       "  'fecha': '1981-06-07T14:24:00.000Z'},\n",
       " {'id': 111,\n",
       "  'producto': {'id': 10, 'tipo': 'pantalon', 'talle': 44},\n",
       "  'fecha': '1981-07-15T13:26:24.000Z'},\n",
       " {'id': 112,\n",
       "  'producto': {'id': 4, 'tipo': 'pantalon', 'talle': 38},\n",
       "  'fecha': '1981-08-22T12:28:48.000Z'},\n",
       " {'id': 113,\n",
       "  'producto': {'id': 13, 'tipo': 'remera', 'talle': 'M'},\n",
       "  'fecha': '1981-09-29T11:31:12.000Z'},\n",
       " {'id': 114,\n",
       "  'producto': {'id': 8, 'tipo': 'pantalon', 'talle': 42},\n",
       "  'fecha': '1981-11-06T10:33:36.000Z'},\n",
       " {'id': 115,\n",
       "  'producto': {'id': 17, 'tipo': 'saco', 'talle': 'S'},\n",
       "  'fecha': '1981-12-14T09:36:00.000Z'},\n",
       " {'id': 116,\n",
       "  'producto': {'id': 5, 'tipo': 'pantalon', 'talle': 39},\n",
       "  'fecha': '1982-01-21T08:38:24.000Z'},\n",
       " {'id': 117,\n",
       "  'producto': {'id': 11, 'tipo': 'remera', 'talle': 'XS'},\n",
       "  'fecha': '1982-02-28T07:40:48.000Z'},\n",
       " {'id': 118,\n",
       "  'producto': {'id': 4, 'tipo': 'pantalon', 'talle': 38},\n",
       "  'fecha': '1982-04-07T06:43:12.000Z'},\n",
       " {'id': 119,\n",
       "  'producto': {'id': 18, 'tipo': 'saco', 'talle': 'M', 'enStock': False},\n",
       "  'fecha': '1982-05-15T05:45:36.000Z'},\n",
       " {'id': 120,\n",
       "  'producto': {'id': 17, 'tipo': 'saco', 'talle': 'S'},\n",
       "  'fecha': '1982-06-22T04:48:00.000Z'},\n",
       " {'id': 121,\n",
       "  'producto': {'id': 4, 'tipo': 'pantalon', 'talle': 38},\n",
       "  'fecha': '1982-07-30T03:50:24.000Z'},\n",
       " {'id': 122,\n",
       "  'producto': {'id': 5, 'tipo': 'pantalon', 'talle': 39},\n",
       "  'fecha': '1982-09-06T02:52:48.000Z'},\n",
       " {'id': 123,\n",
       "  'producto': {'id': 5, 'tipo': 'pantalon', 'talle': 39},\n",
       "  'fecha': '1982-10-14T01:55:12.000Z'},\n",
       " {'id': 124,\n",
       "  'producto': {'id': 4, 'tipo': 'pantalon', 'talle': 38},\n",
       "  'fecha': '1982-11-21T00:57:36.000Z'},\n",
       " {'id': 125,\n",
       "  'producto': {'id': 19, 'tipo': 'saco', 'talle': 'L'},\n",
       "  'fecha': '1982-12-29T00:00:00.000Z'},\n",
       " {'id': 126,\n",
       "  'producto': {'id': 18, 'tipo': 'saco', 'talle': 'M', 'enStock': False},\n",
       "  'fecha': '1983-02-04T23:02:24.000Z'},\n",
       " {'id': 127,\n",
       "  'producto': {'id': 9, 'tipo': 'pantalon', 'talle': 43},\n",
       "  'fecha': '1983-03-14T22:04:48.000Z'},\n",
       " {'id': 128,\n",
       "  'producto': {'id': 14, 'tipo': 'remera', 'talle': 'L'},\n",
       "  'fecha': '1983-04-21T21:07:12.000Z'},\n",
       " {'id': 129,\n",
       "  'producto': {'id': 6, 'tipo': 'pantalon', 'talle': 40},\n",
       "  'fecha': '1983-05-29T20:09:36.000Z'},\n",
       " {'id': 130,\n",
       "  'producto': {'id': 11, 'tipo': 'remera', 'talle': 'XS'},\n",
       "  'fecha': '1983-07-06T19:12:00.000Z'},\n",
       " {'id': 131,\n",
       "  'producto': {'id': 11, 'tipo': 'remera', 'talle': 'XS'},\n",
       "  'fecha': '1983-08-13T18:14:24.000Z'},\n",
       " {'id': 132,\n",
       "  'producto': {'id': 11, 'tipo': 'remera', 'talle': 'XS'},\n",
       "  'fecha': '1983-09-20T17:16:48.000Z'},\n",
       " {'id': 133,\n",
       "  'producto': {'id': 18, 'tipo': 'saco', 'talle': 'M', 'enStock': False},\n",
       "  'fecha': '1983-10-28T16:19:12.000Z'},\n",
       " {'id': 134,\n",
       "  'producto': {'id': 6, 'tipo': 'pantalon', 'talle': 40},\n",
       "  'fecha': '1983-12-05T15:21:36.000Z'},\n",
       " {'id': 135,\n",
       "  'producto': {'id': 18, 'tipo': 'saco', 'talle': 'M', 'enStock': False},\n",
       "  'fecha': '1984-01-12T14:24:00.000Z'},\n",
       " {'id': 136,\n",
       "  'producto': {'id': 17, 'tipo': 'saco', 'talle': 'S'},\n",
       "  'fecha': '1984-02-19T13:26:24.000Z'},\n",
       " {'id': 137,\n",
       "  'producto': {'id': 19, 'tipo': 'saco', 'talle': 'L'},\n",
       "  'fecha': '1984-03-28T12:28:48.000Z'},\n",
       " {'id': 138,\n",
       "  'producto': {'id': 15, 'tipo': 'remera', 'talle': 'XL'},\n",
       "  'fecha': '1984-05-05T11:31:12.000Z'},\n",
       " {'id': 139,\n",
       "  'producto': {'id': 3, 'tipo': 'pantalon', 'talle': 37},\n",
       "  'fecha': '1984-06-12T10:33:36.000Z'},\n",
       " {'id': 140,\n",
       "  'producto': {'id': 9, 'tipo': 'pantalon', 'talle': 43},\n",
       "  'fecha': '1984-07-20T09:36:00.000Z'},\n",
       " {'id': 141,\n",
       "  'producto': {'id': 7, 'tipo': 'pantalon', 'talle': 41},\n",
       "  'fecha': '1984-08-27T08:38:24.000Z'},\n",
       " {'id': 142,\n",
       "  'producto': {'id': 18, 'tipo': 'saco', 'talle': 'M', 'enStock': False},\n",
       "  'fecha': '1984-10-04T07:40:48.000Z'},\n",
       " {'id': 143,\n",
       "  'producto': {'id': 13, 'tipo': 'remera', 'talle': 'M'},\n",
       "  'fecha': '1984-11-11T06:43:12.000Z'},\n",
       " {'id': 144,\n",
       "  'producto': {'id': 9, 'tipo': 'pantalon', 'talle': 43},\n",
       "  'fecha': '1984-12-19T05:45:36.000Z'},\n",
       " {'id': 145,\n",
       "  'producto': {'id': 4, 'tipo': 'pantalon', 'talle': 38},\n",
       "  'fecha': '1985-01-26T04:48:00.000Z'},\n",
       " {'id': 146,\n",
       "  'producto': {'id': 1, 'tipo': 'pantalon', 'talle': 35},\n",
       "  'fecha': '1985-03-05T03:50:24.000Z'},\n",
       " {'id': 147,\n",
       "  'producto': {'id': 17, 'tipo': 'saco', 'talle': 'S'},\n",
       "  'fecha': '1985-04-12T02:52:48.000Z'},\n",
       " {'id': 148,\n",
       "  'producto': {'id': 19, 'tipo': 'saco', 'talle': 'L'},\n",
       "  'fecha': '1985-05-20T01:55:12.000Z'},\n",
       " {'id': 149,\n",
       "  'producto': {'id': 13, 'tipo': 'remera', 'talle': 'M'},\n",
       "  'fecha': '1985-06-27T00:57:36.000Z'},\n",
       " {'id': 150,\n",
       "  'producto': {'id': 9, 'tipo': 'pantalon', 'talle': 43},\n",
       "  'fecha': '1985-08-04T00:00:00.000Z'},\n",
       " {'id': 151,\n",
       "  'producto': {'id': 8, 'tipo': 'pantalon', 'talle': 42},\n",
       "  'fecha': '1985-09-10T23:02:24.000Z'},\n",
       " {'id': 152,\n",
       "  'producto': {'id': 18, 'tipo': 'saco', 'talle': 'M', 'enStock': False},\n",
       "  'fecha': '1985-10-18T22:04:48.000Z'},\n",
       " {'id': 153,\n",
       "  'producto': {'id': 16, 'tipo': 'saco', 'talle': 'XS'},\n",
       "  'fecha': '1985-11-25T21:07:12.000Z'},\n",
       " {'id': 154,\n",
       "  'producto': {'id': 19, 'tipo': 'saco', 'talle': 'L'},\n",
       "  'fecha': '1986-01-02T20:09:36.000Z'},\n",
       " {'id': 155,\n",
       "  'producto': {'id': 14, 'tipo': 'remera', 'talle': 'L'},\n",
       "  'fecha': '1986-02-09T19:12:00.000Z'},\n",
       " {'id': 156,\n",
       "  'producto': {'id': 18, 'tipo': 'saco', 'talle': 'M', 'enStock': False},\n",
       "  'fecha': '1986-03-19T18:14:24.000Z'},\n",
       " {'id': 157,\n",
       "  'producto': {'id': 18, 'tipo': 'saco', 'talle': 'M', 'enStock': False},\n",
       "  'fecha': '1986-04-26T17:16:48.000Z'},\n",
       " {'id': 158,\n",
       "  'producto': {'id': 16, 'tipo': 'saco', 'talle': 'XS'},\n",
       "  'fecha': '1986-06-03T16:19:12.000Z'},\n",
       " {'id': 159,\n",
       "  'producto': {'id': 13, 'tipo': 'remera', 'talle': 'M'},\n",
       "  'fecha': '1986-07-11T15:21:36.000Z'},\n",
       " {'id': 160,\n",
       "  'producto': {'id': 10, 'tipo': 'pantalon', 'talle': 44},\n",
       "  'fecha': '1986-08-18T14:24:00.000Z'},\n",
       " {'id': 161,\n",
       "  'producto': {'id': 8, 'tipo': 'pantalon', 'talle': 42},\n",
       "  'fecha': '1986-09-25T13:26:24.000Z'},\n",
       " {'id': 162,\n",
       "  'producto': {'id': 13, 'tipo': 'remera', 'talle': 'M'},\n",
       "  'fecha': '1986-11-02T12:28:48.000Z'},\n",
       " {'id': 163,\n",
       "  'producto': {'id': 8, 'tipo': 'pantalon', 'talle': 42},\n",
       "  'fecha': '1986-12-10T11:31:12.000Z'},\n",
       " {'id': 164,\n",
       "  'producto': {'id': 12, 'tipo': 'remera', 'talle': 'S'},\n",
       "  'fecha': '1987-01-17T10:33:36.000Z'},\n",
       " {'id': 165,\n",
       "  'producto': {'id': 7, 'tipo': 'pantalon', 'talle': 41},\n",
       "  'fecha': '1987-02-24T09:36:00.000Z'},\n",
       " {'id': 166,\n",
       "  'producto': {'id': 8, 'tipo': 'pantalon', 'talle': 42},\n",
       "  'fecha': '1987-04-03T08:38:24.000Z'},\n",
       " {'id': 167,\n",
       "  'producto': {'id': 6, 'tipo': 'pantalon', 'talle': 40},\n",
       "  'fecha': '1987-05-11T07:40:48.000Z'},\n",
       " {'id': 168,\n",
       "  'producto': {'id': 19, 'tipo': 'saco', 'talle': 'L'},\n",
       "  'fecha': '1987-06-18T06:43:12.000Z'},\n",
       " {'id': 169,\n",
       "  'producto': {'id': 4, 'tipo': 'pantalon', 'talle': 38},\n",
       "  'fecha': '1987-07-26T05:45:36.000Z'},\n",
       " {'id': 170,\n",
       "  'producto': {'id': 14, 'tipo': 'remera', 'talle': 'L'},\n",
       "  'fecha': '1987-09-02T04:48:00.000Z'},\n",
       " {'id': 171,\n",
       "  'producto': {'id': 6, 'tipo': 'pantalon', 'talle': 40},\n",
       "  'fecha': '1987-10-10T03:50:24.000Z'},\n",
       " {'id': 172,\n",
       "  'producto': {'id': 16, 'tipo': 'saco', 'talle': 'XS'},\n",
       "  'fecha': '1987-11-17T02:52:48.000Z'},\n",
       " {'id': 173,\n",
       "  'producto': {'id': 12, 'tipo': 'remera', 'talle': 'S'},\n",
       "  'fecha': '1987-12-25T01:55:12.000Z'},\n",
       " {'id': 174,\n",
       "  'producto': {'id': 17, 'tipo': 'saco', 'talle': 'S'},\n",
       "  'fecha': '1988-02-01T00:57:36.000Z'},\n",
       " {'id': 175,\n",
       "  'producto': {'id': 5, 'tipo': 'pantalon', 'talle': 39},\n",
       "  'fecha': '1988-03-10T00:00:00.000Z'},\n",
       " {'id': 176,\n",
       "  'producto': {'id': 14, 'tipo': 'remera', 'talle': 'L'},\n",
       "  'fecha': '1988-04-16T23:02:24.000Z'},\n",
       " {'id': 177,\n",
       "  'producto': {'id': 12, 'tipo': 'remera', 'talle': 'S'},\n",
       "  'fecha': '1988-05-24T22:04:48.000Z'},\n",
       " {'id': 178,\n",
       "  'producto': {'id': 5, 'tipo': 'pantalon', 'talle': 39},\n",
       "  'fecha': '1988-07-01T21:07:12.000Z'},\n",
       " {'id': 179,\n",
       "  'producto': {'id': 2, 'tipo': 'pantalon', 'talle': 36},\n",
       "  'fecha': '1988-08-08T20:09:36.000Z'},\n",
       " {'id': 180,\n",
       "  'producto': {'id': 3, 'tipo': 'pantalon', 'talle': 37},\n",
       "  'fecha': '1988-09-15T19:12:00.000Z'},\n",
       " {'id': 181,\n",
       "  'producto': {'id': 11, 'tipo': 'remera', 'talle': 'XS'},\n",
       "  'fecha': '1988-10-23T18:14:24.000Z'},\n",
       " {'id': 182,\n",
       "  'producto': {'id': 2, 'tipo': 'pantalon', 'talle': 36},\n",
       "  'fecha': '1988-11-30T17:16:48.000Z'},\n",
       " {'id': 183,\n",
       "  'producto': {'id': 13, 'tipo': 'remera', 'talle': 'M'},\n",
       "  'fecha': '1989-01-07T16:19:12.000Z'},\n",
       " {'id': 184,\n",
       "  'producto': {'id': 12, 'tipo': 'remera', 'talle': 'S'},\n",
       "  'fecha': '1989-02-14T15:21:36.000Z'},\n",
       " {'id': 185,\n",
       "  'producto': {'id': 17, 'tipo': 'saco', 'talle': 'S'},\n",
       "  'fecha': '1989-03-24T14:24:00.000Z'},\n",
       " {'id': 186,\n",
       "  'producto': {'id': 10, 'tipo': 'pantalon', 'talle': 44},\n",
       "  'fecha': '1989-05-01T13:26:24.000Z'},\n",
       " {'id': 187,\n",
       "  'producto': {'id': 18, 'tipo': 'saco', 'talle': 'M', 'enStock': False},\n",
       "  'fecha': '1989-06-08T12:28:48.000Z'},\n",
       " {'id': 188,\n",
       "  'producto': {'id': 12, 'tipo': 'remera', 'talle': 'S'},\n",
       "  'fecha': '1989-07-16T11:31:12.000Z'},\n",
       " {'id': 189,\n",
       "  'producto': {'id': 20, 'tipo': 'saco', 'talle': 'XL'},\n",
       "  'fecha': '1989-08-23T10:33:36.000Z'},\n",
       " {'id': 190,\n",
       "  'producto': {'id': 5, 'tipo': 'pantalon', 'talle': 39},\n",
       "  'fecha': '1989-09-30T09:36:00.000Z'},\n",
       " {'id': 191,\n",
       "  'producto': {'id': 8, 'tipo': 'pantalon', 'talle': 42},\n",
       "  'fecha': '1989-11-07T08:38:24.000Z'},\n",
       " {'id': 192,\n",
       "  'producto': {'id': 14, 'tipo': 'remera', 'talle': 'L'},\n",
       "  'fecha': '1989-12-15T07:40:48.000Z'},\n",
       " {'id': 193,\n",
       "  'producto': {'id': 15, 'tipo': 'remera', 'talle': 'XL'},\n",
       "  'fecha': '1990-01-22T06:43:12.000Z'},\n",
       " {'id': 194,\n",
       "  'producto': {'id': 2, 'tipo': 'pantalon', 'talle': 36},\n",
       "  'fecha': '1990-03-01T05:45:36.000Z'},\n",
       " {'id': 195,\n",
       "  'producto': {'id': 12, 'tipo': 'remera', 'talle': 'S'},\n",
       "  'fecha': '1990-04-08T04:48:00.000Z'},\n",
       " {'id': 196,\n",
       "  'producto': {'id': 11, 'tipo': 'remera', 'talle': 'XS'},\n",
       "  'fecha': '1990-05-16T03:50:24.000Z'},\n",
       " {'id': 197,\n",
       "  'producto': {'id': 14, 'tipo': 'remera', 'talle': 'L'},\n",
       "  'fecha': '1990-06-23T02:52:48.000Z'},\n",
       " {'id': 198,\n",
       "  'producto': {'id': 14, 'tipo': 'remera', 'talle': 'L'},\n",
       "  'fecha': '1990-07-31T01:55:12.000Z'},\n",
       " {'id': 199,\n",
       "  'producto': {'id': 7, 'tipo': 'pantalon', 'talle': 41},\n",
       "  'fecha': '1990-09-07T00:57:36.000Z'},\n",
       " {'id': 200,\n",
       "  'producto': {'id': 15, 'tipo': 'remera', 'talle': 'XL'},\n",
       "  'fecha': '1990-10-15T00:00:00.000Z'},\n",
       " {'id': 201,\n",
       "  'producto': {'id': 3, 'tipo': 'pantalon', 'talle': 37},\n",
       "  'fecha': '1990-11-21T23:02:24.000Z'},\n",
       " {'id': 202,\n",
       "  'producto': {'id': 19, 'tipo': 'saco', 'talle': 'L'},\n",
       "  'fecha': '1990-12-29T22:04:48.000Z'},\n",
       " {'id': 203,\n",
       "  'producto': {'id': 2, 'tipo': 'pantalon', 'talle': 36},\n",
       "  'fecha': '1991-02-05T21:07:12.000Z'},\n",
       " {'id': 204,\n",
       "  'producto': {'id': 14, 'tipo': 'remera', 'talle': 'L'},\n",
       "  'fecha': '1991-03-15T20:09:36.000Z'},\n",
       " {'id': 205,\n",
       "  'producto': {'id': 4, 'tipo': 'pantalon', 'talle': 38},\n",
       "  'fecha': '1991-04-22T19:12:00.000Z'},\n",
       " {'id': 206,\n",
       "  'producto': {'id': 12, 'tipo': 'remera', 'talle': 'S'},\n",
       "  'fecha': '1991-05-30T18:14:24.000Z'},\n",
       " {'id': 207,\n",
       "  'producto': {'id': 5, 'tipo': 'pantalon', 'talle': 39},\n",
       "  'fecha': '1991-07-07T17:16:48.000Z'},\n",
       " {'id': 208,\n",
       "  'producto': {'id': 6, 'tipo': 'pantalon', 'talle': 40},\n",
       "  'fecha': '1991-08-14T16:19:12.000Z'},\n",
       " {'id': 209,\n",
       "  'producto': {'id': 7, 'tipo': 'pantalon', 'talle': 41},\n",
       "  'fecha': '1991-09-21T15:21:36.000Z'},\n",
       " {'id': 210,\n",
       "  'producto': {'id': 17, 'tipo': 'saco', 'talle': 'S'},\n",
       "  'fecha': '1991-10-29T14:24:00.000Z'},\n",
       " {'id': 211,\n",
       "  'producto': {'id': 6, 'tipo': 'pantalon', 'talle': 40},\n",
       "  'fecha': '1991-12-06T13:26:24.000Z'},\n",
       " {'id': 212,\n",
       "  'producto': {'id': 7, 'tipo': 'pantalon', 'talle': 41},\n",
       "  'fecha': '1992-01-13T12:28:48.000Z'},\n",
       " {'id': 213,\n",
       "  'producto': {'id': 2, 'tipo': 'pantalon', 'talle': 36},\n",
       "  'fecha': '1992-02-20T11:31:12.000Z'},\n",
       " {'id': 214,\n",
       "  'producto': {'id': 12, 'tipo': 'remera', 'talle': 'S'},\n",
       "  'fecha': '1992-03-29T10:33:36.000Z'},\n",
       " {'id': 215,\n",
       "  'producto': {'id': 2, 'tipo': 'pantalon', 'talle': 36},\n",
       "  'fecha': '1992-05-06T09:36:00.000Z'},\n",
       " {'id': 216,\n",
       "  'producto': {'id': 17, 'tipo': 'saco', 'talle': 'S'},\n",
       "  'fecha': '1992-06-13T08:38:24.000Z'},\n",
       " {'id': 217,\n",
       "  'producto': {'id': 10, 'tipo': 'pantalon', 'talle': 44},\n",
       "  'fecha': '1992-07-21T07:40:48.000Z'},\n",
       " {'id': 218,\n",
       "  'producto': {'id': 16, 'tipo': 'saco', 'talle': 'XS'},\n",
       "  'fecha': '1992-08-28T06:43:12.000Z'},\n",
       " {'id': 219,\n",
       "  'producto': {'id': 18, 'tipo': 'saco', 'talle': 'M', 'enStock': False},\n",
       "  'fecha': '1992-10-05T05:45:36.000Z'},\n",
       " {'id': 220,\n",
       "  'producto': {'id': 2, 'tipo': 'pantalon', 'talle': 36},\n",
       "  'fecha': '1992-11-12T04:48:00.000Z'},\n",
       " {'id': 221,\n",
       "  'producto': {'id': 10, 'tipo': 'pantalon', 'talle': 44},\n",
       "  'fecha': '1992-12-20T03:50:24.000Z'},\n",
       " {'id': 222,\n",
       "  'producto': {'id': 8, 'tipo': 'pantalon', 'talle': 42},\n",
       "  'fecha': '1993-01-27T02:52:48.000Z'},\n",
       " {'id': 223,\n",
       "  'producto': {'id': 18, 'tipo': 'saco', 'talle': 'M', 'enStock': False},\n",
       "  'fecha': '1993-03-06T01:55:12.000Z'},\n",
       " {'id': 224,\n",
       "  'producto': {'id': 14, 'tipo': 'remera', 'talle': 'L'},\n",
       "  'fecha': '1993-04-13T00:57:36.000Z'},\n",
       " {'id': 225,\n",
       "  'producto': {'id': 2, 'tipo': 'pantalon', 'talle': 36},\n",
       "  'fecha': '1993-05-21T00:00:00.000Z'},\n",
       " {'id': 226,\n",
       "  'producto': {'id': 17, 'tipo': 'saco', 'talle': 'S'},\n",
       "  'fecha': '1993-06-27T23:02:24.000Z'},\n",
       " {'id': 227,\n",
       "  'producto': {'id': 17, 'tipo': 'saco', 'talle': 'S'},\n",
       "  'fecha': '1993-08-04T22:04:48.000Z'},\n",
       " {'id': 228,\n",
       "  'producto': {'id': 10, 'tipo': 'pantalon', 'talle': 44},\n",
       "  'fecha': '1993-09-11T21:07:12.000Z'},\n",
       " {'id': 229,\n",
       "  'producto': {'id': 6, 'tipo': 'pantalon', 'talle': 40},\n",
       "  'fecha': '1993-10-19T20:09:36.000Z'},\n",
       " {'id': 230,\n",
       "  'producto': {'id': 11, 'tipo': 'remera', 'talle': 'XS'},\n",
       "  'fecha': '1993-11-26T19:12:00.000Z'},\n",
       " {'id': 231,\n",
       "  'producto': {'id': 15, 'tipo': 'remera', 'talle': 'XL'},\n",
       "  'fecha': '1994-01-03T18:14:24.000Z'},\n",
       " {'id': 232,\n",
       "  'producto': {'id': 15, 'tipo': 'remera', 'talle': 'XL'},\n",
       "  'fecha': '1994-02-10T17:16:48.000Z'},\n",
       " {'id': 233,\n",
       "  'producto': {'id': 4, 'tipo': 'pantalon', 'talle': 38},\n",
       "  'fecha': '1994-03-20T16:19:12.000Z'},\n",
       " {'id': 234,\n",
       "  'producto': {'id': 13, 'tipo': 'remera', 'talle': 'M'},\n",
       "  'fecha': '1994-04-27T15:21:36.000Z'},\n",
       " {'id': 235,\n",
       "  'producto': {'id': 19, 'tipo': 'saco', 'talle': 'L'},\n",
       "  'fecha': '1994-06-04T14:24:00.000Z'},\n",
       " {'id': 236,\n",
       "  'producto': {'id': 14, 'tipo': 'remera', 'talle': 'L'},\n",
       "  'fecha': '1994-07-12T13:26:24.000Z'},\n",
       " {'id': 237,\n",
       "  'producto': {'id': 3, 'tipo': 'pantalon', 'talle': 37},\n",
       "  'fecha': '1994-08-19T12:28:48.000Z'},\n",
       " {'id': 238,\n",
       "  'producto': {'id': 1, 'tipo': 'pantalon', 'talle': 35},\n",
       "  'fecha': '1994-09-26T11:31:12.000Z'},\n",
       " {'id': 239,\n",
       "  'producto': {'id': 18, 'tipo': 'saco', 'talle': 'M', 'enStock': False},\n",
       "  'fecha': '1994-11-03T10:33:36.000Z'},\n",
       " {'id': 240,\n",
       "  'producto': {'id': 18, 'tipo': 'saco', 'talle': 'M', 'enStock': False},\n",
       "  'fecha': '1994-12-11T09:36:00.000Z'},\n",
       " {'id': 241,\n",
       "  'producto': {'id': 19, 'tipo': 'saco', 'talle': 'L'},\n",
       "  'fecha': '1995-01-18T08:38:24.000Z'},\n",
       " {'id': 242,\n",
       "  'producto': {'id': 10, 'tipo': 'pantalon', 'talle': 44},\n",
       "  'fecha': '1995-02-25T07:40:48.000Z'},\n",
       " {'id': 243,\n",
       "  'producto': {'id': 18, 'tipo': 'saco', 'talle': 'M', 'enStock': False},\n",
       "  'fecha': '1995-04-04T06:43:12.000Z'},\n",
       " {'id': 244,\n",
       "  'producto': {'id': 17, 'tipo': 'saco', 'talle': 'S'},\n",
       "  'fecha': '1995-05-12T05:45:36.000Z'},\n",
       " {'id': 245,\n",
       "  'producto': {'id': 2, 'tipo': 'pantalon', 'talle': 36},\n",
       "  'fecha': '1995-06-19T04:48:00.000Z'},\n",
       " {'id': 246,\n",
       "  'producto': {'id': 6, 'tipo': 'pantalon', 'talle': 40},\n",
       "  'fecha': '1995-07-27T03:50:24.000Z'},\n",
       " {'id': 247,\n",
       "  'producto': {'id': 15, 'tipo': 'remera', 'talle': 'XL'},\n",
       "  'fecha': '1995-09-03T02:52:48.000Z'},\n",
       " {'id': 248,\n",
       "  'producto': {'id': 8, 'tipo': 'pantalon', 'talle': 42},\n",
       "  'fecha': '1995-10-11T01:55:12.000Z'},\n",
       " {'id': 249,\n",
       "  'producto': {'id': 2, 'tipo': 'pantalon', 'talle': 36},\n",
       "  'fecha': '1995-11-18T00:57:36.000Z'},\n",
       " {'id': 250,\n",
       "  'producto': {'id': 18, 'tipo': 'saco', 'talle': 'M', 'enStock': False},\n",
       "  'fecha': '1995-12-26T00:00:00.000Z'},\n",
       " {'id': 251,\n",
       "  'producto': {'id': 19, 'tipo': 'saco', 'talle': 'L'},\n",
       "  'fecha': '1996-02-01T23:02:24.000Z'},\n",
       " {'id': 252,\n",
       "  'producto': {'id': 4, 'tipo': 'pantalon', 'talle': 38},\n",
       "  'fecha': '1996-03-10T22:04:48.000Z'},\n",
       " {'id': 253,\n",
       "  'producto': {'id': 4, 'tipo': 'pantalon', 'talle': 38},\n",
       "  'fecha': '1996-04-17T21:07:12.000Z'},\n",
       " {'id': 254,\n",
       "  'producto': {'id': 8, 'tipo': 'pantalon', 'talle': 42},\n",
       "  'fecha': '1996-05-25T20:09:36.000Z'},\n",
       " {'id': 255,\n",
       "  'producto': {'id': 6, 'tipo': 'pantalon', 'talle': 40},\n",
       "  'fecha': '1996-07-02T19:12:00.000Z'},\n",
       " {'id': 256,\n",
       "  'producto': {'id': 18, 'tipo': 'saco', 'talle': 'M', 'enStock': False},\n",
       "  'fecha': '1996-08-09T18:14:24.000Z'},\n",
       " {'id': 257,\n",
       "  'producto': {'id': 3, 'tipo': 'pantalon', 'talle': 37},\n",
       "  'fecha': '1996-09-16T17:16:48.000Z'},\n",
       " {'id': 258,\n",
       "  'producto': {'id': 2, 'tipo': 'pantalon', 'talle': 36},\n",
       "  'fecha': '1996-10-24T16:19:12.000Z'},\n",
       " {'id': 259,\n",
       "  'producto': {'id': 11, 'tipo': 'remera', 'talle': 'XS'},\n",
       "  'fecha': '1996-12-01T15:21:36.000Z'},\n",
       " {'id': 260,\n",
       "  'producto': {'id': 10, 'tipo': 'pantalon', 'talle': 44},\n",
       "  'fecha': '1997-01-08T14:24:00.000Z'},\n",
       " {'id': 261,\n",
       "  'producto': {'id': 17, 'tipo': 'saco', 'talle': 'S'},\n",
       "  'fecha': '1997-02-15T13:26:24.000Z'},\n",
       " {'id': 262,\n",
       "  'producto': {'id': 18, 'tipo': 'saco', 'talle': 'M', 'enStock': False},\n",
       "  'fecha': '1997-03-25T12:28:48.000Z'},\n",
       " {'id': 263,\n",
       "  'producto': {'id': 10, 'tipo': 'pantalon', 'talle': 44},\n",
       "  'fecha': '1997-05-02T11:31:12.000Z'},\n",
       " {'id': 264,\n",
       "  'producto': {'id': 15, 'tipo': 'remera', 'talle': 'XL'},\n",
       "  'fecha': '1997-06-09T10:33:36.000Z'},\n",
       " {'id': 265,\n",
       "  'producto': {'id': 15, 'tipo': 'remera', 'talle': 'XL'},\n",
       "  'fecha': '1997-07-17T09:36:00.000Z'},\n",
       " {'id': 266,\n",
       "  'producto': {'id': 19, 'tipo': 'saco', 'talle': 'L'},\n",
       "  'fecha': '1997-08-24T08:38:24.000Z'},\n",
       " {'id': 267,\n",
       "  'producto': {'id': 20, 'tipo': 'saco', 'talle': 'XL'},\n",
       "  'fecha': '1997-10-01T07:40:48.000Z'},\n",
       " {'id': 268,\n",
       "  'producto': {'id': 11, 'tipo': 'remera', 'talle': 'XS'},\n",
       "  'fecha': '1997-11-08T06:43:12.000Z'},\n",
       " {'id': 269,\n",
       "  'producto': {'id': 3, 'tipo': 'pantalon', 'talle': 37},\n",
       "  'fecha': '1997-12-16T05:45:36.000Z'},\n",
       " {'id': 270,\n",
       "  'producto': {'id': 2, 'tipo': 'pantalon', 'talle': 36},\n",
       "  'fecha': '1998-01-23T04:48:00.000Z'},\n",
       " {'id': 271,\n",
       "  'producto': {'id': 4, 'tipo': 'pantalon', 'talle': 38},\n",
       "  'fecha': '1998-03-02T03:50:24.000Z'},\n",
       " {'id': 272,\n",
       "  'producto': {'id': 2, 'tipo': 'pantalon', 'talle': 36},\n",
       "  'fecha': '1998-04-09T02:52:48.000Z'},\n",
       " {'id': 273,\n",
       "  'producto': {'id': 5, 'tipo': 'pantalon', 'talle': 39},\n",
       "  'fecha': '1998-05-17T01:55:12.000Z'},\n",
       " {'id': 274,\n",
       "  'producto': {'id': 10, 'tipo': 'pantalon', 'talle': 44},\n",
       "  'fecha': '1998-06-24T00:57:36.000Z'},\n",
       " {'id': 275,\n",
       "  'producto': {'id': 12, 'tipo': 'remera', 'talle': 'S'},\n",
       "  'fecha': '1998-08-01T00:00:00.000Z'},\n",
       " {'id': 276,\n",
       "  'producto': {'id': 9, 'tipo': 'pantalon', 'talle': 43},\n",
       "  'fecha': '1998-09-07T23:02:24.000Z'},\n",
       " {'id': 277,\n",
       "  'producto': {'id': 7, 'tipo': 'pantalon', 'talle': 41},\n",
       "  'fecha': '1998-10-15T22:04:48.000Z'},\n",
       " {'id': 278,\n",
       "  'producto': {'id': 7, 'tipo': 'pantalon', 'talle': 41},\n",
       "  'fecha': '1998-11-22T21:07:12.000Z'},\n",
       " {'id': 279,\n",
       "  'producto': {'id': 5, 'tipo': 'pantalon', 'talle': 39},\n",
       "  'fecha': '1998-12-30T20:09:36.000Z'},\n",
       " {'id': 280,\n",
       "  'producto': {'id': 19, 'tipo': 'saco', 'talle': 'L'},\n",
       "  'fecha': '1999-02-06T19:12:00.000Z'},\n",
       " {'id': 281,\n",
       "  'producto': {'id': 7, 'tipo': 'pantalon', 'talle': 41},\n",
       "  'fecha': '1999-03-16T18:14:24.000Z'},\n",
       " {'id': 282,\n",
       "  'producto': {'id': 13, 'tipo': 'remera', 'talle': 'M'},\n",
       "  'fecha': '1999-04-23T17:16:48.000Z'},\n",
       " {'id': 283,\n",
       "  'producto': {'id': 13, 'tipo': 'remera', 'talle': 'M'},\n",
       "  'fecha': '1999-05-31T16:19:12.000Z'},\n",
       " {'id': 284,\n",
       "  'producto': {'id': 12, 'tipo': 'remera', 'talle': 'S'},\n",
       "  'fecha': '1999-07-08T15:21:36.000Z'},\n",
       " {'id': 285,\n",
       "  'producto': {'id': 17, 'tipo': 'saco', 'talle': 'S'},\n",
       "  'fecha': '1999-08-15T14:24:00.000Z'},\n",
       " {'id': 286,\n",
       "  'producto': {'id': 20, 'tipo': 'saco', 'talle': 'XL'},\n",
       "  'fecha': '1999-09-22T13:26:24.000Z'},\n",
       " {'id': 287,\n",
       "  'producto': {'id': 8, 'tipo': 'pantalon', 'talle': 42},\n",
       "  'fecha': '1999-10-30T12:28:48.000Z'},\n",
       " {'id': 288,\n",
       "  'producto': {'id': 17, 'tipo': 'saco', 'talle': 'S'},\n",
       "  'fecha': '1999-12-07T11:31:12.000Z'},\n",
       " {'id': 289,\n",
       "  'producto': {'id': 11, 'tipo': 'remera', 'talle': 'XS'},\n",
       "  'fecha': '2000-01-14T10:33:36.000Z'},\n",
       " {'id': 290,\n",
       "  'producto': {'id': 2, 'tipo': 'pantalon', 'talle': 36},\n",
       "  'fecha': '2000-02-21T09:36:00.000Z'},\n",
       " {'id': 291,\n",
       "  'producto': {'id': 10, 'tipo': 'pantalon', 'talle': 44},\n",
       "  'fecha': '2000-03-30T08:38:24.000Z'},\n",
       " {'id': 292,\n",
       "  'producto': {'id': 7, 'tipo': 'pantalon', 'talle': 41},\n",
       "  'fecha': '2000-05-07T07:40:48.000Z'},\n",
       " {'id': 293,\n",
       "  'producto': {'id': 3, 'tipo': 'pantalon', 'talle': 37},\n",
       "  'fecha': '2000-06-14T06:43:12.000Z'},\n",
       " {'id': 294,\n",
       "  'producto': {'id': 9, 'tipo': 'pantalon', 'talle': 43},\n",
       "  'fecha': '2000-07-22T05:45:36.000Z'},\n",
       " {'id': 295,\n",
       "  'producto': {'id': 12, 'tipo': 'remera', 'talle': 'S'},\n",
       "  'fecha': '2000-08-29T04:48:00.000Z'},\n",
       " {'id': 296,\n",
       "  'producto': {'id': 11, 'tipo': 'remera', 'talle': 'XS'},\n",
       "  'fecha': '2000-10-06T03:50:24.000Z'},\n",
       " {'id': 297,\n",
       "  'producto': {'id': 12, 'tipo': 'remera', 'talle': 'S'},\n",
       "  'fecha': '2000-11-13T02:52:48.000Z'},\n",
       " {'id': 298,\n",
       "  'producto': {'id': 2, 'tipo': 'pantalon', 'talle': 36},\n",
       "  'fecha': '2000-12-21T01:55:12.000Z'},\n",
       " {'id': 299,\n",
       "  'producto': {'id': 16, 'tipo': 'saco', 'talle': 'XS'},\n",
       "  'fecha': '2001-01-28T00:57:36.000Z'},\n",
       " {'id': 300,\n",
       "  'producto': {'id': 19, 'tipo': 'saco', 'talle': 'L'},\n",
       "  'fecha': '2001-03-07T00:00:00.000Z'},\n",
       " {'id': 301,\n",
       "  'producto': {'id': 8, 'tipo': 'pantalon', 'talle': 42},\n",
       "  'fecha': '2001-04-13T23:02:24.000Z'},\n",
       " {'id': 302,\n",
       "  'producto': {'id': 7, 'tipo': 'pantalon', 'talle': 41},\n",
       "  'fecha': '2001-05-21T22:04:48.000Z'},\n",
       " {'id': 303,\n",
       "  'producto': {'id': 1, 'tipo': 'pantalon', 'talle': 35},\n",
       "  'fecha': '2001-06-28T21:07:12.000Z'},\n",
       " {'id': 304,\n",
       "  'producto': {'id': 11, 'tipo': 'remera', 'talle': 'XS'},\n",
       "  'fecha': '2001-08-05T20:09:36.000Z'},\n",
       " {'id': 305,\n",
       "  'producto': {'id': 7, 'tipo': 'pantalon', 'talle': 41},\n",
       "  'fecha': '2001-09-12T19:12:00.000Z'},\n",
       " {'id': 306,\n",
       "  'producto': {'id': 13, 'tipo': 'remera', 'talle': 'M'},\n",
       "  'fecha': '2001-10-20T18:14:24.000Z'},\n",
       " {'id': 307,\n",
       "  'producto': {'id': 14, 'tipo': 'remera', 'talle': 'L'},\n",
       "  'fecha': '2001-11-27T17:16:48.000Z'},\n",
       " {'id': 308,\n",
       "  'producto': {'id': 11, 'tipo': 'remera', 'talle': 'XS'},\n",
       "  'fecha': '2002-01-04T16:19:12.000Z'},\n",
       " {'id': 309,\n",
       "  'producto': {'id': 7, 'tipo': 'pantalon', 'talle': 41},\n",
       "  'fecha': '2002-02-11T15:21:36.000Z'},\n",
       " {'id': 310,\n",
       "  'producto': {'id': 7, 'tipo': 'pantalon', 'talle': 41},\n",
       "  'fecha': '2002-03-21T14:24:00.000Z'},\n",
       " {'id': 311,\n",
       "  'producto': {'id': 19, 'tipo': 'saco', 'talle': 'L'},\n",
       "  'fecha': '2002-04-28T13:26:24.000Z'},\n",
       " {'id': 312,\n",
       "  'producto': {'id': 15, 'tipo': 'remera', 'talle': 'XL'},\n",
       "  'fecha': '2002-06-05T12:28:48.000Z'},\n",
       " {'id': 313,\n",
       "  'producto': {'id': 19, 'tipo': 'saco', 'talle': 'L'},\n",
       "  'fecha': '2002-07-13T11:31:12.000Z'},\n",
       " {'id': 314,\n",
       "  'producto': {'id': 10, 'tipo': 'pantalon', 'talle': 44},\n",
       "  'fecha': '2002-08-20T10:33:36.000Z'},\n",
       " {'id': 315,\n",
       "  'producto': {'id': 17, 'tipo': 'saco', 'talle': 'S'},\n",
       "  'fecha': '2002-09-27T09:36:00.000Z'},\n",
       " {'id': 316,\n",
       "  'producto': {'id': 9, 'tipo': 'pantalon', 'talle': 43},\n",
       "  'fecha': '2002-11-04T08:38:24.000Z'},\n",
       " {'id': 317,\n",
       "  'producto': {'id': 20, 'tipo': 'saco', 'talle': 'XL'},\n",
       "  'fecha': '2002-12-12T07:40:48.000Z'},\n",
       " {'id': 318,\n",
       "  'producto': {'id': 10, 'tipo': 'pantalon', 'talle': 44},\n",
       "  'fecha': '2003-01-19T06:43:12.000Z'},\n",
       " {'id': 319,\n",
       "  'producto': {'id': 3, 'tipo': 'pantalon', 'talle': 37},\n",
       "  'fecha': '2003-02-26T05:45:36.000Z'},\n",
       " {'id': 320,\n",
       "  'producto': {'id': 15, 'tipo': 'remera', 'talle': 'XL'},\n",
       "  'fecha': '2003-04-05T04:48:00.000Z'},\n",
       " {'id': 321,\n",
       "  'producto': {'id': 6, 'tipo': 'pantalon', 'talle': 40},\n",
       "  'fecha': '2003-05-13T03:50:24.000Z'},\n",
       " {'id': 322,\n",
       "  'producto': {'id': 1, 'tipo': 'pantalon', 'talle': 35},\n",
       "  'fecha': '2003-06-20T02:52:48.000Z'},\n",
       " {'id': 323,\n",
       "  'producto': {'id': 14, 'tipo': 'remera', 'talle': 'L'},\n",
       "  'fecha': '2003-07-28T01:55:12.000Z'},\n",
       " {'id': 324,\n",
       "  'producto': {'id': 4, 'tipo': 'pantalon', 'talle': 38},\n",
       "  'fecha': '2003-09-04T00:57:36.000Z'},\n",
       " {'id': 325,\n",
       "  'producto': {'id': 16, 'tipo': 'saco', 'talle': 'XS'},\n",
       "  'fecha': '2003-10-12T00:00:00.000Z'},\n",
       " {'id': 326,\n",
       "  'producto': {'id': 4, 'tipo': 'pantalon', 'talle': 38},\n",
       "  'fecha': '2003-11-18T23:02:24.000Z'},\n",
       " {'id': 327,\n",
       "  'producto': {'id': 9, 'tipo': 'pantalon', 'talle': 43},\n",
       "  'fecha': '2003-12-26T22:04:48.000Z'},\n",
       " {'id': 328,\n",
       "  'producto': {'id': 6, 'tipo': 'pantalon', 'talle': 40},\n",
       "  'fecha': '2004-02-02T21:07:12.000Z'},\n",
       " {'id': 329,\n",
       "  'producto': {'id': 16, 'tipo': 'saco', 'talle': 'XS'},\n",
       "  'fecha': '2004-03-11T20:09:36.000Z'},\n",
       " {'id': 330,\n",
       "  'producto': {'id': 19, 'tipo': 'saco', 'talle': 'L'},\n",
       "  'fecha': '2004-04-18T19:12:00.000Z'},\n",
       " {'id': 331,\n",
       "  'producto': {'id': 17, 'tipo': 'saco', 'talle': 'S'},\n",
       "  'fecha': '2004-05-26T18:14:24.000Z'},\n",
       " {'id': 332,\n",
       "  'producto': {'id': 17, 'tipo': 'saco', 'talle': 'S'},\n",
       "  'fecha': '2004-07-03T17:16:48.000Z'},\n",
       " {'id': 333,\n",
       "  'producto': {'id': 4, 'tipo': 'pantalon', 'talle': 38},\n",
       "  'fecha': '2004-08-10T16:19:12.000Z'},\n",
       " {'id': 334,\n",
       "  'producto': {'id': 8, 'tipo': 'pantalon', 'talle': 42},\n",
       "  'fecha': '2004-09-17T15:21:36.000Z'},\n",
       " {'id': 335,\n",
       "  'producto': {'id': 3, 'tipo': 'pantalon', 'talle': 37},\n",
       "  'fecha': '2004-10-25T14:24:00.000Z'},\n",
       " {'id': 336,\n",
       "  'producto': {'id': 12, 'tipo': 'remera', 'talle': 'S'},\n",
       "  'fecha': '2004-12-02T13:26:24.000Z'},\n",
       " {'id': 337,\n",
       "  'producto': {'id': 11, 'tipo': 'remera', 'talle': 'XS'},\n",
       "  'fecha': '2005-01-09T12:28:48.000Z'},\n",
       " {'id': 338,\n",
       "  'producto': {'id': 6, 'tipo': 'pantalon', 'talle': 40},\n",
       "  'fecha': '2005-02-16T11:31:12.000Z'},\n",
       " {'id': 339,\n",
       "  'producto': {'id': 13, 'tipo': 'remera', 'talle': 'M'},\n",
       "  'fecha': '2005-03-26T10:33:36.000Z'},\n",
       " {'id': 340,\n",
       "  'producto': {'id': 2, 'tipo': 'pantalon', 'talle': 36},\n",
       "  'fecha': '2005-05-03T09:36:00.000Z'},\n",
       " {'id': 341,\n",
       "  'producto': {'id': 5, 'tipo': 'pantalon', 'talle': 39},\n",
       "  'fecha': '2005-06-10T08:38:24.000Z'},\n",
       " {'id': 342,\n",
       "  'producto': {'id': 4, 'tipo': 'pantalon', 'talle': 38},\n",
       "  'fecha': '2005-07-18T07:40:48.000Z'},\n",
       " {'id': 343,\n",
       "  'producto': {'id': 10, 'tipo': 'pantalon', 'talle': 44},\n",
       "  'fecha': '2005-08-25T06:43:12.000Z'},\n",
       " {'id': 344,\n",
       "  'producto': {'id': 16, 'tipo': 'saco', 'talle': 'XS'},\n",
       "  'fecha': '2005-10-02T05:45:36.000Z'},\n",
       " {'id': 345,\n",
       "  'producto': {'id': 7, 'tipo': 'pantalon', 'talle': 41},\n",
       "  'fecha': '2005-11-09T04:48:00.000Z'},\n",
       " {'id': 346,\n",
       "  'producto': {'id': 6, 'tipo': 'pantalon', 'talle': 40},\n",
       "  'fecha': '2005-12-17T03:50:24.000Z'},\n",
       " {'id': 347,\n",
       "  'producto': {'id': 16, 'tipo': 'saco', 'talle': 'XS'},\n",
       "  'fecha': '2006-01-24T02:52:48.000Z'},\n",
       " {'id': 348,\n",
       "  'producto': {'id': 14, 'tipo': 'remera', 'talle': 'L'},\n",
       "  'fecha': '2006-03-03T01:55:12.000Z'},\n",
       " {'id': 349,\n",
       "  'producto': {'id': 14, 'tipo': 'remera', 'talle': 'L'},\n",
       "  'fecha': '2006-04-10T00:57:36.000Z'},\n",
       " {'id': 350,\n",
       "  'producto': {'id': 16, 'tipo': 'saco', 'talle': 'XS'},\n",
       "  'fecha': '2006-05-18T00:00:00.000Z'},\n",
       " {'id': 351,\n",
       "  'producto': {'id': 7, 'tipo': 'pantalon', 'talle': 41},\n",
       "  'fecha': '2006-06-24T23:02:24.000Z'},\n",
       " {'id': 352,\n",
       "  'producto': {'id': 20, 'tipo': 'saco', 'talle': 'XL'},\n",
       "  'fecha': '2006-08-01T22:04:48.000Z'},\n",
       " {'id': 353,\n",
       "  'producto': {'id': 6, 'tipo': 'pantalon', 'talle': 40},\n",
       "  'fecha': '2006-09-08T21:07:12.000Z'},\n",
       " {'id': 354,\n",
       "  'producto': {'id': 2, 'tipo': 'pantalon', 'talle': 36},\n",
       "  'fecha': '2006-10-16T20:09:36.000Z'},\n",
       " {'id': 355,\n",
       "  'producto': {'id': 2, 'tipo': 'pantalon', 'talle': 36},\n",
       "  'fecha': '2006-11-23T19:12:00.000Z'},\n",
       " {'id': 356,\n",
       "  'producto': {'id': 16, 'tipo': 'saco', 'talle': 'XS'},\n",
       "  'fecha': '2006-12-31T18:14:24.000Z'},\n",
       " {'id': 357,\n",
       "  'producto': {'id': 19, 'tipo': 'saco', 'talle': 'L'},\n",
       "  'fecha': '2007-02-07T17:16:48.000Z'},\n",
       " {'id': 358,\n",
       "  'producto': {'id': 17, 'tipo': 'saco', 'talle': 'S'},\n",
       "  'fecha': '2007-03-17T16:19:12.000Z'},\n",
       " {'id': 359,\n",
       "  'producto': {'id': 8, 'tipo': 'pantalon', 'talle': 42},\n",
       "  'fecha': '2007-04-24T15:21:36.000Z'},\n",
       " {'id': 360,\n",
       "  'producto': {'id': 14, 'tipo': 'remera', 'talle': 'L'},\n",
       "  'fecha': '2007-06-01T14:24:00.000Z'},\n",
       " {'id': 361,\n",
       "  'producto': {'id': 3, 'tipo': 'pantalon', 'talle': 37},\n",
       "  'fecha': '2007-07-09T13:26:24.000Z'},\n",
       " {'id': 362,\n",
       "  'producto': {'id': 20, 'tipo': 'saco', 'talle': 'XL'},\n",
       "  'fecha': '2007-08-16T12:28:48.000Z'},\n",
       " {'id': 363,\n",
       "  'producto': {'id': 1, 'tipo': 'pantalon', 'talle': 35},\n",
       "  'fecha': '2007-09-23T11:31:12.000Z'},\n",
       " {'id': 364,\n",
       "  'producto': {'id': 16, 'tipo': 'saco', 'talle': 'XS'},\n",
       "  'fecha': '2007-10-31T10:33:36.000Z'},\n",
       " {'id': 365,\n",
       "  'producto': {'id': 7, 'tipo': 'pantalon', 'talle': 41},\n",
       "  'fecha': '2007-12-08T09:36:00.000Z'},\n",
       " {'id': 366,\n",
       "  'producto': {'id': 6, 'tipo': 'pantalon', 'talle': 40},\n",
       "  'fecha': '2008-01-15T08:38:24.000Z'},\n",
       " {'id': 367,\n",
       "  'producto': {'id': 7, 'tipo': 'pantalon', 'talle': 41},\n",
       "  'fecha': '2008-02-22T07:40:48.000Z'},\n",
       " {'id': 368,\n",
       "  'producto': {'id': 13, 'tipo': 'remera', 'talle': 'M'},\n",
       "  'fecha': '2008-03-31T06:43:12.000Z'},\n",
       " {'id': 369,\n",
       "  'producto': {'id': 16, 'tipo': 'saco', 'talle': 'XS'},\n",
       "  'fecha': '2008-05-08T05:45:36.000Z'},\n",
       " {'id': 370,\n",
       "  'producto': {'id': 12, 'tipo': 'remera', 'talle': 'S'},\n",
       "  'fecha': '2008-06-15T04:48:00.000Z'},\n",
       " {'id': 371,\n",
       "  'producto': {'id': 18, 'tipo': 'saco', 'talle': 'M', 'enStock': False},\n",
       "  'fecha': '2008-07-23T03:50:24.000Z'},\n",
       " {'id': 372,\n",
       "  'producto': {'id': 10, 'tipo': 'pantalon', 'talle': 44},\n",
       "  'fecha': '2008-08-30T02:52:48.000Z'},\n",
       " {'id': 373,\n",
       "  'producto': {'id': 19, 'tipo': 'saco', 'talle': 'L'},\n",
       "  'fecha': '2008-10-07T01:55:12.000Z'},\n",
       " {'id': 374,\n",
       "  'producto': {'id': 3, 'tipo': 'pantalon', 'talle': 37},\n",
       "  'fecha': '2008-11-14T00:57:36.000Z'},\n",
       " {'id': 375,\n",
       "  'producto': {'id': 2, 'tipo': 'pantalon', 'talle': 36},\n",
       "  'fecha': '2008-12-22T00:00:00.000Z'},\n",
       " {'id': 376,\n",
       "  'producto': {'id': 11, 'tipo': 'remera', 'talle': 'XS'},\n",
       "  'fecha': '2009-01-28T23:02:24.000Z'},\n",
       " {'id': 377,\n",
       "  'producto': {'id': 1, 'tipo': 'pantalon', 'talle': 35},\n",
       "  'fecha': '2009-03-07T22:04:48.000Z'},\n",
       " {'id': 378,\n",
       "  'producto': {'id': 5, 'tipo': 'pantalon', 'talle': 39},\n",
       "  'fecha': '2009-04-14T21:07:12.000Z'},\n",
       " {'id': 379,\n",
       "  'producto': {'id': 10, 'tipo': 'pantalon', 'talle': 44},\n",
       "  'fecha': '2009-05-22T20:09:36.000Z'},\n",
       " {'id': 380,\n",
       "  'producto': {'id': 12, 'tipo': 'remera', 'talle': 'S'},\n",
       "  'fecha': '2009-06-29T19:12:00.000Z'},\n",
       " {'id': 381,\n",
       "  'producto': {'id': 10, 'tipo': 'pantalon', 'talle': 44},\n",
       "  'fecha': '2009-08-06T18:14:24.000Z'},\n",
       " {'id': 382,\n",
       "  'producto': {'id': 19, 'tipo': 'saco', 'talle': 'L'},\n",
       "  'fecha': '2009-09-13T17:16:48.000Z'},\n",
       " {'id': 383,\n",
       "  'producto': {'id': 7, 'tipo': 'pantalon', 'talle': 41},\n",
       "  'fecha': '2009-10-21T16:19:12.000Z'},\n",
       " {'id': 384,\n",
       "  'producto': {'id': 11, 'tipo': 'remera', 'talle': 'XS'},\n",
       "  'fecha': '2009-11-28T15:21:36.000Z'},\n",
       " {'id': 385,\n",
       "  'producto': {'id': 10, 'tipo': 'pantalon', 'talle': 44},\n",
       "  'fecha': '2010-01-05T14:24:00.000Z'},\n",
       " {'id': 386,\n",
       "  'producto': {'id': 19, 'tipo': 'saco', 'talle': 'L'},\n",
       "  'fecha': '2010-02-12T13:26:24.000Z'},\n",
       " {'id': 387,\n",
       "  'producto': {'id': 5, 'tipo': 'pantalon', 'talle': 39},\n",
       "  'fecha': '2010-03-22T12:28:48.000Z'},\n",
       " {'id': 388,\n",
       "  'producto': {'id': 14, 'tipo': 'remera', 'talle': 'L'},\n",
       "  'fecha': '2010-04-29T11:31:12.000Z'},\n",
       " {'id': 389,\n",
       "  'producto': {'id': 20, 'tipo': 'saco', 'talle': 'XL'},\n",
       "  'fecha': '2010-06-06T10:33:36.000Z'},\n",
       " {'id': 390,\n",
       "  'producto': {'id': 19, 'tipo': 'saco', 'talle': 'L'},\n",
       "  'fecha': '2010-07-14T09:36:00.000Z'},\n",
       " {'id': 391,\n",
       "  'producto': {'id': 5, 'tipo': 'pantalon', 'talle': 39},\n",
       "  'fecha': '2010-08-21T08:38:24.000Z'},\n",
       " {'id': 392,\n",
       "  'producto': {'id': 17, 'tipo': 'saco', 'talle': 'S'},\n",
       "  'fecha': '2010-09-28T07:40:48.000Z'},\n",
       " {'id': 393,\n",
       "  'producto': {'id': 17, 'tipo': 'saco', 'talle': 'S'},\n",
       "  'fecha': '2010-11-05T06:43:12.000Z'},\n",
       " {'id': 394,\n",
       "  'producto': {'id': 7, 'tipo': 'pantalon', 'talle': 41},\n",
       "  'fecha': '2010-12-13T05:45:36.000Z'},\n",
       " {'id': 395,\n",
       "  'producto': {'id': 10, 'tipo': 'pantalon', 'talle': 44},\n",
       "  'fecha': '2011-01-20T04:48:00.000Z'},\n",
       " {'id': 396,\n",
       "  'producto': {'id': 4, 'tipo': 'pantalon', 'talle': 38},\n",
       "  'fecha': '2011-02-27T03:50:24.000Z'},\n",
       " {'id': 397,\n",
       "  'producto': {'id': 9, 'tipo': 'pantalon', 'talle': 43},\n",
       "  'fecha': '2011-04-06T02:52:48.000Z'},\n",
       " {'id': 398,\n",
       "  'producto': {'id': 14, 'tipo': 'remera', 'talle': 'L'},\n",
       "  'fecha': '2011-05-14T01:55:12.000Z'},\n",
       " {'id': 399,\n",
       "  'producto': {'id': 10, 'tipo': 'pantalon', 'talle': 44},\n",
       "  'fecha': '2011-06-21T00:57:36.000Z'},\n",
       " {'id': 400,\n",
       "  'producto': {'id': 19, 'tipo': 'saco', 'talle': 'L'},\n",
       "  'fecha': '2011-07-29T00:00:00.000Z'},\n",
       " {'id': 401,\n",
       "  'producto': {'id': 4, 'tipo': 'pantalon', 'talle': 38},\n",
       "  'fecha': '2011-09-04T23:02:24.000Z'},\n",
       " {'id': 402,\n",
       "  'producto': {'id': 2, 'tipo': 'pantalon', 'talle': 36},\n",
       "  'fecha': '2011-10-12T22:04:48.000Z'},\n",
       " {'id': 403,\n",
       "  'producto': {'id': 9, 'tipo': 'pantalon', 'talle': 43},\n",
       "  'fecha': '2011-11-19T21:07:12.000Z'},\n",
       " {'id': 404,\n",
       "  'producto': {'id': 5, 'tipo': 'pantalon', 'talle': 39},\n",
       "  'fecha': '2011-12-27T20:09:36.000Z'},\n",
       " {'id': 405,\n",
       "  'producto': {'id': 9, 'tipo': 'pantalon', 'talle': 43},\n",
       "  'fecha': '2012-02-03T19:12:00.000Z'},\n",
       " {'id': 406,\n",
       "  'producto': {'id': 15, 'tipo': 'remera', 'talle': 'XL'},\n",
       "  'fecha': '2012-03-12T18:14:24.000Z'},\n",
       " {'id': 407,\n",
       "  'producto': {'id': 4, 'tipo': 'pantalon', 'talle': 38},\n",
       "  'fecha': '2012-04-19T17:16:48.000Z'},\n",
       " {'id': 408,\n",
       "  'producto': {'id': 17, 'tipo': 'saco', 'talle': 'S'},\n",
       "  'fecha': '2012-05-27T16:19:12.000Z'},\n",
       " {'id': 409,\n",
       "  'producto': {'id': 16, 'tipo': 'saco', 'talle': 'XS'},\n",
       "  'fecha': '2012-07-04T15:21:36.000Z'},\n",
       " {'id': 410,\n",
       "  'producto': {'id': 13, 'tipo': 'remera', 'talle': 'M'},\n",
       "  'fecha': '2012-08-11T14:24:00.000Z'},\n",
       " {'id': 411,\n",
       "  'producto': {'id': 20, 'tipo': 'saco', 'talle': 'XL'},\n",
       "  'fecha': '2012-09-18T13:26:24.000Z'},\n",
       " {'id': 412,\n",
       "  'producto': {'id': 4, 'tipo': 'pantalon', 'talle': 38},\n",
       "  'fecha': '2012-10-26T12:28:48.000Z'},\n",
       " {'id': 413,\n",
       "  'producto': {'id': 6, 'tipo': 'pantalon', 'talle': 40},\n",
       "  'fecha': '2012-12-03T11:31:12.000Z'},\n",
       " {'id': 414,\n",
       "  'producto': {'id': 14, 'tipo': 'remera', 'talle': 'L'},\n",
       "  'fecha': '2013-01-10T10:33:36.000Z'},\n",
       " {'id': 415,\n",
       "  'producto': {'id': 18, 'tipo': 'saco', 'talle': 'M', 'enStock': False},\n",
       "  'fecha': '2013-02-17T09:36:00.000Z'},\n",
       " {'id': 416,\n",
       "  'producto': {'id': 7, 'tipo': 'pantalon', 'talle': 41},\n",
       "  'fecha': '2013-03-27T08:38:24.000Z'},\n",
       " {'id': 417,\n",
       "  'producto': {'id': 4, 'tipo': 'pantalon', 'talle': 38},\n",
       "  'fecha': '2013-05-04T07:40:48.000Z'},\n",
       " {'id': 418,\n",
       "  'producto': {'id': 3, 'tipo': 'pantalon', 'talle': 37},\n",
       "  'fecha': '2013-06-11T06:43:12.000Z'},\n",
       " {'id': 419,\n",
       "  'producto': {'id': 17, 'tipo': 'saco', 'talle': 'S'},\n",
       "  'fecha': '2013-07-19T05:45:36.000Z'},\n",
       " {'id': 420,\n",
       "  'producto': {'id': 7, 'tipo': 'pantalon', 'talle': 41},\n",
       "  'fecha': '2013-08-26T04:48:00.000Z'},\n",
       " {'id': 421,\n",
       "  'producto': {'id': 18, 'tipo': 'saco', 'talle': 'M', 'enStock': False},\n",
       "  'fecha': '2013-10-03T03:50:24.000Z'},\n",
       " {'id': 422,\n",
       "  'producto': {'id': 2, 'tipo': 'pantalon', 'talle': 36},\n",
       "  'fecha': '2013-11-10T02:52:48.000Z'},\n",
       " {'id': 423,\n",
       "  'producto': {'id': 7, 'tipo': 'pantalon', 'talle': 41},\n",
       "  'fecha': '2013-12-18T01:55:12.000Z'},\n",
       " {'id': 424,\n",
       "  'producto': {'id': 7, 'tipo': 'pantalon', 'talle': 41},\n",
       "  'fecha': '2014-01-25T00:57:36.000Z'},\n",
       " {'id': 425,\n",
       "  'producto': {'id': 7, 'tipo': 'pantalon', 'talle': 41},\n",
       "  'fecha': '2014-03-04T00:00:00.000Z'},\n",
       " {'id': 426,\n",
       "  'producto': {'id': 1, 'tipo': 'pantalon', 'talle': 35},\n",
       "  'fecha': '2014-04-10T23:02:24.000Z'},\n",
       " {'id': 427,\n",
       "  'producto': {'id': 19, 'tipo': 'saco', 'talle': 'L'},\n",
       "  'fecha': '2014-05-18T22:04:48.000Z'},\n",
       " {'id': 428,\n",
       "  'producto': {'id': 3, 'tipo': 'pantalon', 'talle': 37},\n",
       "  'fecha': '2014-06-25T21:07:12.000Z'},\n",
       " {'id': 429,\n",
       "  'producto': {'id': 17, 'tipo': 'saco', 'talle': 'S'},\n",
       "  'fecha': '2014-08-02T20:09:36.000Z'},\n",
       " {'id': 430,\n",
       "  'producto': {'id': 4, 'tipo': 'pantalon', 'talle': 38},\n",
       "  'fecha': '2014-09-09T19:12:00.000Z'},\n",
       " {'id': 431,\n",
       "  'producto': {'id': 13, 'tipo': 'remera', 'talle': 'M'},\n",
       "  'fecha': '2014-10-17T18:14:24.000Z'},\n",
       " {'id': 432,\n",
       "  'producto': {'id': 2, 'tipo': 'pantalon', 'talle': 36},\n",
       "  'fecha': '2014-11-24T17:16:48.000Z'},\n",
       " {'id': 433,\n",
       "  'producto': {'id': 6, 'tipo': 'pantalon', 'talle': 40},\n",
       "  'fecha': '2015-01-01T16:19:12.000Z'},\n",
       " {'id': 434,\n",
       "  'producto': {'id': 2, 'tipo': 'pantalon', 'talle': 36},\n",
       "  'fecha': '2015-02-08T15:21:36.000Z'},\n",
       " {'id': 435,\n",
       "  'producto': {'id': 13, 'tipo': 'remera', 'talle': 'M'},\n",
       "  'fecha': '2015-03-18T14:24:00.000Z'},\n",
       " {'id': 436,\n",
       "  'producto': {'id': 7, 'tipo': 'pantalon', 'talle': 41},\n",
       "  'fecha': '2015-04-25T13:26:24.000Z'},\n",
       " {'id': 437,\n",
       "  'producto': {'id': 16, 'tipo': 'saco', 'talle': 'XS'},\n",
       "  'fecha': '2015-06-02T12:28:48.000Z'},\n",
       " {'id': 438,\n",
       "  'producto': {'id': 12, 'tipo': 'remera', 'talle': 'S'},\n",
       "  'fecha': '2015-07-10T11:31:12.000Z'},\n",
       " {'id': 439,\n",
       "  'producto': {'id': 14, 'tipo': 'remera', 'talle': 'L'},\n",
       "  'fecha': '2015-08-17T10:33:36.000Z'},\n",
       " {'id': 440,\n",
       "  'producto': {'id': 9, 'tipo': 'pantalon', 'talle': 43},\n",
       "  'fecha': '2015-09-24T09:36:00.000Z'},\n",
       " {'id': 441,\n",
       "  'producto': {'id': 16, 'tipo': 'saco', 'talle': 'XS'},\n",
       "  'fecha': '2015-11-01T08:38:24.000Z'},\n",
       " {'id': 442,\n",
       "  'producto': {'id': 5, 'tipo': 'pantalon', 'talle': 39},\n",
       "  'fecha': '2015-12-09T07:40:48.000Z'},\n",
       " {'id': 443,\n",
       "  'producto': {'id': 18, 'tipo': 'saco', 'talle': 'M', 'enStock': False},\n",
       "  'fecha': '2016-01-16T06:43:12.000Z'},\n",
       " {'id': 444,\n",
       "  'producto': {'id': 4, 'tipo': 'pantalon', 'talle': 38},\n",
       "  'fecha': '2016-02-23T05:45:36.000Z'},\n",
       " {'id': 445,\n",
       "  'producto': {'id': 16, 'tipo': 'saco', 'talle': 'XS'},\n",
       "  'fecha': '2016-04-01T04:48:00.000Z'},\n",
       " {'id': 446,\n",
       "  'producto': {'id': 19, 'tipo': 'saco', 'talle': 'L'},\n",
       "  'fecha': '2016-05-09T03:50:24.000Z'},\n",
       " {'id': 447,\n",
       "  'producto': {'id': 3, 'tipo': 'pantalon', 'talle': 37},\n",
       "  'fecha': '2016-06-16T02:52:48.000Z'},\n",
       " {'id': 448,\n",
       "  'producto': {'id': 14, 'tipo': 'remera', 'talle': 'L'},\n",
       "  'fecha': '2016-07-24T01:55:12.000Z'},\n",
       " {'id': 449,\n",
       "  'producto': {'id': 16, 'tipo': 'saco', 'talle': 'XS'},\n",
       "  'fecha': '2016-08-31T00:57:36.000Z'},\n",
       " {'id': 450,\n",
       "  'producto': {'id': 13, 'tipo': 'remera', 'talle': 'M'},\n",
       "  'fecha': '2016-10-08T00:00:00.000Z'},\n",
       " {'id': 451,\n",
       "  'producto': {'id': 10, 'tipo': 'pantalon', 'talle': 44},\n",
       "  'fecha': '2016-11-14T23:02:24.000Z'},\n",
       " {'id': 452,\n",
       "  'producto': {'id': 15, 'tipo': 'remera', 'talle': 'XL'},\n",
       "  'fecha': '2016-12-22T22:04:48.000Z'},\n",
       " {'id': 453,\n",
       "  'producto': {'id': 7, 'tipo': 'pantalon', 'talle': 41},\n",
       "  'fecha': '2017-01-29T21:07:12.000Z'},\n",
       " {'id': 454,\n",
       "  'producto': {'id': 2, 'tipo': 'pantalon', 'talle': 36},\n",
       "  'fecha': '2017-03-08T20:09:36.000Z'},\n",
       " {'id': 455,\n",
       "  'producto': {'id': 2, 'tipo': 'pantalon', 'talle': 36},\n",
       "  'fecha': '2017-04-15T19:12:00.000Z'},\n",
       " {'id': 456,\n",
       "  'producto': {'id': 10, 'tipo': 'pantalon', 'talle': 44},\n",
       "  'fecha': '2017-05-23T18:14:24.000Z'},\n",
       " {'id': 457,\n",
       "  'producto': {'id': 5, 'tipo': 'pantalon', 'talle': 39},\n",
       "  'fecha': '2017-06-30T17:16:48.000Z'},\n",
       " {'id': 458,\n",
       "  'producto': {'id': 2, 'tipo': 'pantalon', 'talle': 36},\n",
       "  'fecha': '2017-08-07T16:19:12.000Z'},\n",
       " {'id': 459,\n",
       "  'producto': {'id': 17, 'tipo': 'saco', 'talle': 'S'},\n",
       "  'fecha': '2017-09-14T15:21:36.000Z'},\n",
       " {'id': 460,\n",
       "  'producto': {'id': 4, 'tipo': 'pantalon', 'talle': 38},\n",
       "  'fecha': '2017-10-22T14:24:00.000Z'},\n",
       " {'id': 461,\n",
       "  'producto': {'id': 8, 'tipo': 'pantalon', 'talle': 42},\n",
       "  'fecha': '2017-11-29T13:26:24.000Z'},\n",
       " {'id': 462,\n",
       "  'producto': {'id': 12, 'tipo': 'remera', 'talle': 'S'},\n",
       "  'fecha': '2018-01-06T12:28:48.000Z'},\n",
       " {'id': 463,\n",
       "  'producto': {'id': 4, 'tipo': 'pantalon', 'talle': 38},\n",
       "  'fecha': '2018-02-13T11:31:12.000Z'},\n",
       " {'id': 464,\n",
       "  'producto': {'id': 18, 'tipo': 'saco', 'talle': 'M', 'enStock': False},\n",
       "  'fecha': '2018-03-23T10:33:36.000Z'},\n",
       " {'id': 465,\n",
       "  'producto': {'id': 9, 'tipo': 'pantalon', 'talle': 43},\n",
       "  'fecha': '2018-04-30T09:36:00.000Z'},\n",
       " {'id': 466,\n",
       "  'producto': {'id': 18, 'tipo': 'saco', 'talle': 'M', 'enStock': False},\n",
       "  'fecha': '2018-06-07T08:38:24.000Z'},\n",
       " {'id': 467,\n",
       "  'producto': {'id': 10, 'tipo': 'pantalon', 'talle': 44},\n",
       "  'fecha': '2018-07-15T07:40:48.000Z'},\n",
       " {'id': 468,\n",
       "  'producto': {'id': 19, 'tipo': 'saco', 'talle': 'L'},\n",
       "  'fecha': '2018-08-22T06:43:12.000Z'},\n",
       " {'id': 469,\n",
       "  'producto': {'id': 9, 'tipo': 'pantalon', 'talle': 43},\n",
       "  'fecha': '2018-09-29T05:45:36.000Z'},\n",
       " {'id': 470,\n",
       "  'producto': {'id': 3, 'tipo': 'pantalon', 'talle': 37},\n",
       "  'fecha': '2018-11-06T04:48:00.000Z'},\n",
       " {'id': 471,\n",
       "  'producto': {'id': 12, 'tipo': 'remera', 'talle': 'S'},\n",
       "  'fecha': '2018-12-14T03:50:24.000Z'},\n",
       " {'id': 472,\n",
       "  'producto': {'id': 10, 'tipo': 'pantalon', 'talle': 44},\n",
       "  'fecha': '2019-01-21T02:52:48.000Z'},\n",
       " {'id': 473,\n",
       "  'producto': {'id': 3, 'tipo': 'pantalon', 'talle': 37},\n",
       "  'fecha': '2019-02-28T01:55:12.000Z'},\n",
       " {'id': 474,\n",
       "  'producto': {'id': 14, 'tipo': 'remera', 'talle': 'L'},\n",
       "  'fecha': '2019-04-07T00:57:36.000Z'},\n",
       " {'id': 475,\n",
       "  'producto': {'id': 18, 'tipo': 'saco', 'talle': 'M', 'enStock': False},\n",
       "  'fecha': '2019-05-15T00:00:00.000Z'},\n",
       " {'id': 476,\n",
       "  'producto': {'id': 19, 'tipo': 'saco', 'talle': 'L'},\n",
       "  'fecha': '2019-06-21T23:02:24.000Z'},\n",
       " {'id': 477,\n",
       "  'producto': {'id': 10, 'tipo': 'pantalon', 'talle': 44},\n",
       "  'fecha': '2019-07-29T22:04:48.000Z'},\n",
       " {'id': 478,\n",
       "  'producto': {'id': 8, 'tipo': 'pantalon', 'talle': 42},\n",
       "  'fecha': '2019-09-05T21:07:12.000Z'},\n",
       " {'id': 479,\n",
       "  'producto': {'id': 11, 'tipo': 'remera', 'talle': 'XS'},\n",
       "  'fecha': '2019-10-13T20:09:36.000Z'},\n",
       " {'id': 480,\n",
       "  'producto': {'id': 8, 'tipo': 'pantalon', 'talle': 42},\n",
       "  'fecha': '2019-11-20T19:12:00.000Z'},\n",
       " {'id': 481,\n",
       "  'producto': {'id': 19, 'tipo': 'saco', 'talle': 'L'},\n",
       "  'fecha': '2019-12-28T18:14:24.000Z'},\n",
       " {'id': 482,\n",
       "  'producto': {'id': 18, 'tipo': 'saco', 'talle': 'M', 'enStock': False},\n",
       "  'fecha': '2020-02-04T17:16:48.000Z'},\n",
       " {'id': 483,\n",
       "  'producto': {'id': 19, 'tipo': 'saco', 'talle': 'L'},\n",
       "  'fecha': '2020-03-13T16:19:12.000Z'},\n",
       " {'id': 484,\n",
       "  'producto': {'id': 3, 'tipo': 'pantalon', 'talle': 37},\n",
       "  'fecha': '2020-04-20T15:21:36.000Z'},\n",
       " {'id': 485,\n",
       "  'producto': {'id': 4, 'tipo': 'pantalon', 'talle': 38},\n",
       "  'fecha': '2020-05-28T14:24:00.000Z'},\n",
       " {'id': 486,\n",
       "  'producto': {'id': 14, 'tipo': 'remera', 'talle': 'L'},\n",
       "  'fecha': '2020-07-05T13:26:24.000Z'},\n",
       " {'id': 487,\n",
       "  'producto': {'id': 14, 'tipo': 'remera', 'talle': 'L'},\n",
       "  'fecha': '2020-08-12T12:28:48.000Z'},\n",
       " {'id': 488,\n",
       "  'producto': {'id': 5, 'tipo': 'pantalon', 'talle': 39},\n",
       "  'fecha': '2020-09-19T11:31:12.000Z'},\n",
       " {'id': 489,\n",
       "  'producto': {'id': 12, 'tipo': 'remera', 'talle': 'S'},\n",
       "  'fecha': '2020-10-27T10:33:36.000Z'},\n",
       " {'id': 490,\n",
       "  'producto': {'id': 11, 'tipo': 'remera', 'talle': 'XS'},\n",
       "  'fecha': '2020-12-04T09:36:00.000Z'},\n",
       " {'id': 491,\n",
       "  'producto': {'id': 12, 'tipo': 'remera', 'talle': 'S'},\n",
       "  'fecha': '2021-01-11T08:38:24.000Z'},\n",
       " {'id': 492,\n",
       "  'producto': {'id': 12, 'tipo': 'remera', 'talle': 'S'},\n",
       "  'fecha': '2021-02-18T07:40:48.000Z'},\n",
       " {'id': 493,\n",
       "  'producto': {'id': 6, 'tipo': 'pantalon', 'talle': 40},\n",
       "  'fecha': '2021-03-28T06:43:12.000Z'},\n",
       " {'id': 494,\n",
       "  'producto': {'id': 7, 'tipo': 'pantalon', 'talle': 41},\n",
       "  'fecha': '2021-05-05T05:45:36.000Z'},\n",
       " {'id': 495,\n",
       "  'producto': {'id': 7, 'tipo': 'pantalon', 'talle': 41},\n",
       "  'fecha': '2021-06-12T04:48:00.000Z'},\n",
       " {'id': 496,\n",
       "  'producto': {'id': 3, 'tipo': 'pantalon', 'talle': 37},\n",
       "  'fecha': '2021-07-20T03:50:24.000Z'},\n",
       " {'id': 497,\n",
       "  'producto': {'id': 9, 'tipo': 'pantalon', 'talle': 43},\n",
       "  'fecha': '2021-08-27T02:52:48.000Z'},\n",
       " {'id': 498,\n",
       "  'producto': {'id': 15, 'tipo': 'remera', 'talle': 'XL'},\n",
       "  'fecha': '2021-10-04T01:55:12.000Z'},\n",
       " {'id': 499,\n",
       "  'producto': {'id': 7, 'tipo': 'pantalon', 'talle': 41},\n",
       "  'fecha': '2021-11-11T00:57:36.000Z'},\n",
       " {'id': 500,\n",
       "  'producto': {'id': 4, 'tipo': 'pantalon', 'talle': 38},\n",
       "  'fecha': '2021-12-19T00:00:00.000Z'}]"
      ]
     },
     "execution_count": 41,
     "metadata": {},
     "output_type": "execute_result"
    }
   ],
   "source": [
    "r = requests.get('https://macowins-server.herokuapp.com/ventas?tipo=saco')\n",
    "r.json()\n"
   ]
  },
  {
   "cell_type": "code",
   "execution_count": 42,
   "metadata": {},
   "outputs": [
    {
     "data": {
      "text/plain": [
       "{'id': 2,\n",
       " 'producto': {'id': 11, 'tipo': 'remera', 'talle': 'XS'},\n",
       " 'fecha': '1970-03-17T22:04:48.000Z'}"
      ]
     },
     "execution_count": 42,
     "metadata": {},
     "output_type": "execute_result"
    }
   ],
   "source": [
    "r = requests.get('https://macowins-server.herokuapp.com/ventas/2?tipo=saco')\n",
    "r.json()"
   ]
  },
  {
   "cell_type": "markdown",
   "metadata": {},
   "source": [
    "Desafío VI: Obtené las remeras."
   ]
  },
  {
   "cell_type": "code",
   "execution_count": 43,
   "metadata": {},
   "outputs": [
    {
     "data": {
      "text/plain": [
       "[{'id': 11, 'tipo': 'remera', 'talle': 'XS'},\n",
       " {'id': 12, 'tipo': 'remera', 'talle': 'S'},\n",
       " {'id': 13, 'tipo': 'remera', 'talle': 'M'},\n",
       " {'id': 14, 'tipo': 'remera', 'talle': 'L'},\n",
       " {'id': 15, 'tipo': 'remera', 'talle': 'XL'}]"
      ]
     },
     "execution_count": 43,
     "metadata": {},
     "output_type": "execute_result"
    }
   ],
   "source": [
    "r=requests.get(\"https://macowins-server.herokuapp.com/prendas?tipo=remera\")\n",
    "r.json()"
   ]
  },
  {
   "cell_type": "markdown",
   "metadata": {},
   "source": [
    "Desafío VII: Obtené las remeras XS"
   ]
  },
  {
   "cell_type": "code",
   "execution_count": 45,
   "metadata": {},
   "outputs": [
    {
     "data": {
      "text/plain": [
       "[{'id': 11, 'tipo': 'remera', 'talle': 'XS'}]"
      ]
     },
     "execution_count": 45,
     "metadata": {},
     "output_type": "execute_result"
    }
   ],
   "source": [
    "r=requests.get(\"https://macowins-server.herokuapp.com/prendas?tipo=remera&talle=XS\")\n",
    "r.json()"
   ]
  },
  {
   "cell_type": "markdown",
   "metadata": {},
   "source": [
    "**URLs Y URIs**\n"
   ]
  },
  {
   "cell_type": "markdown",
   "metadata": {},
   "source": [
    "Desafío VIII: decí usando tus palabras qué significa la URI de este ejemplo cerebral\n",
    "\n",
    "cerebro://recuerdos:3403/recientes#hoy?tema=http"
   ]
  },
  {
   "cell_type": "markdown",
   "metadata": {},
   "source": [
    "Esto estaria buscando en el cerebro, en la parte de los recuerdos recientes en el fragmento \"hoy\" el tema HTTP\n"
   ]
  },
  {
   "cell_type": "markdown",
   "metadata": {},
   "source": [
    "**RESOLUCION DE DOMINIOS**\n"
   ]
  },
  {
   "cell_type": "code",
   "execution_count": 49,
   "metadata": {},
   "outputs": [],
   "source": [
    "import os\n",
    "hostname = \"google.com\"\n",
    "response= os.system(\"ping -c 1\" + hostname)\n"
   ]
  },
  {
   "cell_type": "markdown",
   "metadata": {},
   "source": [
    "Desafío IX: ¿a través de qué IP accedés a google desde tu computadora?\n"
   ]
  },
  {
   "cell_type": "markdown",
   "metadata": {},
   "source": [
    "Desde la ip del servidor?"
   ]
  },
  {
   "cell_type": "markdown",
   "metadata": {},
   "source": [
    "**CABECERAS**\n"
   ]
  },
  {
   "cell_type": "markdown",
   "metadata": {},
   "source": [
    "Desafío X: ¿Qué devolverá la página principal (home) de nuestro sitio? Averiguá el Content-Type de /home"
   ]
  },
  {
   "cell_type": "code",
   "execution_count": 1,
   "metadata": {},
   "outputs": [
    {
     "data": {
      "text/plain": [
       "{'Server': 'Cowboy', 'Connection': 'keep-alive', 'X-Powered-By': 'Express', 'Expires': '-1', 'Content-Type': 'text/html; charset=utf-8', 'Content-Length': '0', 'Etag': 'W/\"0-2jmj7l5rSw0yVb/vlWAYkK/YBwk\"', 'Vary': 'Accept-Encoding', 'Date': 'Wed, 22 Jun 2022 00:06:58 GMT', 'Via': '1.1 vegur'}"
      ]
     },
     "execution_count": 1,
     "metadata": {},
     "output_type": "execute_result"
    }
   ],
   "source": [
    "import requests\n",
    "r=requests.get(\"https://macowins-server.herokuapp.com/home\")\n",
    "r.headers"
   ]
  },
  {
   "cell_type": "markdown",
   "metadata": {},
   "source": [
    "Devuelve que es un texto, basicamente un archivo html. Esto es porque es la home de una pagina web.\n"
   ]
  },
  {
   "cell_type": "markdown",
   "metadata": {},
   "source": [
    "**BORRANDO CONTENIDO**"
   ]
  },
  {
   "cell_type": "markdown",
   "metadata": {},
   "source": [
    "Desafío XI: consultá 4 sitios diferentes y averiguá para todos ellos qué servidor utilizan, si el contenido se transfiere encriptado, y la fecha de expieración del contenido."
   ]
  },
  {
   "cell_type": "code",
   "execution_count": 3,
   "metadata": {},
   "outputs": [
    {
     "data": {
      "text/plain": [
       "{'Content-Type': 'text/html; charset=UTF-8', 'Transfer-Encoding': 'chunked', 'Connection': 'keep-alive', 'Keep-Alive': 'timeout=15', 'Date': 'Wed, 22 Jun 2022 00:12:06 GMT', 'Server': 'Apache', 'X-Powered-By': 'PHP/7.4.29', 'Link': '<https://www.aquaparkrojales.es/wp-json/>; rel=\"https://api.w.org/\", <https://www.aquaparkrojales.es/wp-json/wp/v2/pages/64>; rel=\"alternate\"; type=\"application/json\", <https://www.aquaparkrojales.es/>; rel=shortlink', 'X-ET-API-VERSION': 'v1', 'X-ET-API-ROOT': 'https://www.aquaparkrojales.es/wp-json/tribe/tickets/v1/', 'X-ET-API-ORIGIN': 'https://www.aquaparkrojales.es', 'X-TEC-API-VERSION': 'v1', 'X-TEC-API-ROOT': 'https://www.aquaparkrojales.es/wp-json/tribe/events/v1/', 'X-TEC-API-ORIGIN': 'https://www.aquaparkrojales.es', 'Content-Encoding': 'gzip'}"
      ]
     },
     "execution_count": 3,
     "metadata": {},
     "output_type": "execute_result"
    }
   ],
   "source": [
    "import requests\n",
    "r=requests.get(\"https://www.aquaparkrojales.es\")\n",
    "r.headers"
   ]
  },
  {
   "cell_type": "markdown",
   "metadata": {},
   "source": [
    "El server es \"PHP/7.4.29\", la transferencia de codigo es chunked, es decir en fragmentos, mientras que el contenido esta comprimido por gzip. No tiene header expire."
   ]
  },
  {
   "cell_type": "code",
   "execution_count": 4,
   "metadata": {},
   "outputs": [
    {
     "data": {
      "text/plain": [
       "{'Date': 'Wed, 22 Jun 2022 00:22:39 GMT', 'Content-Type': 'text/html; charset=UTF-8', 'Transfer-Encoding': 'chunked', 'Connection': 'keep-alive', 'Last-Modified': 'Wed, 22 Jun 2022 00:19:06 GMT', 'X-XSS-Protection': '1; mode=block', 'X-UA-Device-Type': 'common', 'Cache-Control': 'max-age=120', 'Vary': 'Accept-Encoding, User-Agent', 'X-AspNet-Version': '4.0.30319', 'X-Powered-By': 'ASP.NET', 'CF-Cache-Status': 'HIT', 'Age': '194', 'Expect-CT': 'max-age=604800, report-uri=\"https://report-uri.cloudflare.com/cdn-cgi/beacon/expect-ct\"', 'Server': 'cloudflare', 'CF-RAY': '71f0d4b2cab7f7d2-EZE', 'Content-Encoding': 'br', 'alt-svc': 'h3=\":443\"; ma=86400, h3-29=\":443\"; ma=86400'}"
      ]
     },
     "execution_count": 4,
     "metadata": {},
     "output_type": "execute_result"
    }
   ],
   "source": [
    "import requests\n",
    "r=requests.get(\"https://www.clarin.com/\")\n",
    "r.headers"
   ]
  },
  {
   "cell_type": "markdown",
   "metadata": {},
   "source": [
    "El server es \"cloudfare\", la encriptacion del contenido es \"br\", y la encriptacion de la transferencia es chunked, o por segmentos. No tiene expire"
   ]
  },
  {
   "cell_type": "code",
   "execution_count": 7,
   "metadata": {},
   "outputs": [
    {
     "data": {
      "text/plain": [
       "{'Server': 'nginx', 'Date': 'Wed, 22 Jun 2022 00:28:13 GMT', 'Content-Type': 'text/html; charset=UTF-8', 'Transfer-Encoding': 'chunked', 'Connection': 'keep-alive', 'Vary': 'Accept-Encoding, Cookie', 'X-Content-Type-Options': 'nosniff, nosniff, nosniff', 'Cache-Control': 'max-age=3600, public', 'X-Drupal-Dynamic-Cache': 'UNCACHEABLE', 'Link': '<https://ucema.edu.ar/>; rel=\"canonical\", <https://ucema.edu.ar/>; rel=\"shortlink\"', 'X-UA-Compatible': 'IE=edge', 'Content-language': 'es', 'X-Frame-Options': 'SAMEORIGIN, SAMEORIGIN', 'Permissions-Policy': 'interest-cohort=()', 'Expires': 'Sun, 19 Nov 1978 05:00:00 GMT', 'Last-Modified': 'Tue, 21 Jun 2022 20:06:53 GMT', 'ETag': 'W/\"1655842013\"', 'X-Generator': 'Drupal 9 (https://www.drupal.org)', 'X-Drupal-Cache': 'HIT', 'X-XSS-Protection': '1; mode=block', 'Strict-Transport-Security': 'max-age=31536000; includeSubdomains; preload', 'Content-Encoding': 'gzip'}"
      ]
     },
     "execution_count": 7,
     "metadata": {},
     "output_type": "execute_result"
    }
   ],
   "source": [
    "import requests\n",
    "r=requests.get(\"https://ucema.edu.ar/\")\n",
    "r.headers"
   ]
  },
  {
   "cell_type": "markdown",
   "metadata": {},
   "source": [
    "El server es \"nginx\", la encriptacion del contendio es gzip, y la de la transferencia es chunked. Expira Sun, 19 Nov 1978 05:00:00 GMT."
   ]
  },
  {
   "cell_type": "code",
   "execution_count": 8,
   "metadata": {},
   "outputs": [
    {
     "data": {
      "text/plain": [
       "{'Server': 'nginx', 'Date': 'Wed, 22 Jun 2022 00:30:23 GMT', 'Content-Type': 'text/html; charset=UTF-8', 'Transfer-Encoding': 'chunked', 'Connection': 'keep-alive', 'Strict-Transport-Security': 'max-age=31536000', 'Vary': 'Accept-Encoding, Cookie', 'X-hacker': \"If you're reading this, you should visit automattic.com/jobs and apply to join the fun, mention this header.\", 'Host-Header': 'WordPress.com', 'Link': '<https://dediego.com.ar/wp-json/>; rel=\"https://api.w.org/\", <https://dediego.com.ar/wp-json/wp/v2/pages/14558>; rel=\"alternate\"; type=\"application/json\", <https://wp.me/P911Gi-3MO>; rel=shortlink', 'Last-Modified': 'Wed, 22 Jun 2022 00:30:23 GMT', 'Cache-Control': 'max-age=300, must-revalidate', 'X-nananana': 'Batcache-Set', 'Content-Encoding': 'br', 'X-ac': '1.gru _atomic_dfw '}"
      ]
     },
     "execution_count": 8,
     "metadata": {},
     "output_type": "execute_result"
    }
   ],
   "source": [
    "import requests\n",
    "r=requests.get(\"https://dediego.com.ar/\")\n",
    "r.headers"
   ]
  },
  {
   "cell_type": "markdown",
   "metadata": {},
   "source": [
    "El servidor en nginx, la encriptacion del contenido es \"br\" y la de la transferencia es chunked. No tiene expire. "
   ]
  },
  {
   "cell_type": "markdown",
   "metadata": {},
   "source": [
    "**Sobre la semántica de los verbos**"
   ]
  },
  {
   "cell_type": "markdown",
   "metadata": {},
   "source": [
    "Desafío XII: ¿qué código de estado devuelve cuando un recurso es creado? Averigualo"
   ]
  },
  {
   "cell_type": "code",
   "execution_count": 10,
   "metadata": {},
   "outputs": [
    {
     "data": {
      "text/plain": [
       "500"
      ]
     },
     "execution_count": 10,
     "metadata": {},
     "output_type": "execute_result"
    }
   ],
   "source": [
    "import requests\n",
    "data= {\"id\":21}\n",
    "r= requests.post('https://macowins-server.herokuapp.com/prendas/', data=data)\n",
    "r.status_code\n"
   ]
  },
  {
   "cell_type": "code",
   "execution_count": 11,
   "metadata": {},
   "outputs": [
    {
     "data": {
      "text/plain": [
       "200"
      ]
     },
     "execution_count": 11,
     "metadata": {},
     "output_type": "execute_result"
    }
   ],
   "source": [
    "r=requests.get(\"https://macowins-server.herokuapp.com/prendas/21\")\n",
    "r.status_code"
   ]
  },
  {
   "cell_type": "code",
   "execution_count": 35,
   "metadata": {},
   "outputs": [
    {
     "data": {
      "text/plain": [
       "{'id': '22', 'tipo': 'chomba', 'talle': 'XS'}"
      ]
     },
     "execution_count": 35,
     "metadata": {},
     "output_type": "execute_result"
    }
   ],
   "source": [
    "data =  {\"id\":22, \"tipo\": \"chomba\", \"talle\": \"XS\"}\n",
    "r = requests.post('https://macowins-server.herokuapp.com/prendas', data=data)\n",
    "r.json()"
   ]
  },
  {
   "cell_type": "code",
   "execution_count": 22,
   "metadata": {},
   "outputs": [
    {
     "data": {
      "text/plain": [
       "201"
      ]
     },
     "execution_count": 22,
     "metadata": {},
     "output_type": "execute_result"
    }
   ],
   "source": [
    "import json, requests\n",
    "headers = {'Content-type': 'application/json', 'Accept': 'text/plain'}\n",
    "data =  { \"tipo\": \"chomba\", \"talle\": \"XS\" }\n",
    "r = requests.post('https://macowins-server.herokuapp.com/prendas', data=json.dumps(data), headers=headers)\n",
    "r.status_code\n"
   ]
  },
  {
   "cell_type": "code",
   "execution_count": 26,
   "metadata": {},
   "outputs": [
    {
     "data": {
      "text/plain": [
       "[{'id': 1, 'tipo': 'pantalon', 'talle': 35},\n",
       " {'id': 2, 'tipo': 'pantalon', 'talle': 36},\n",
       " {'id': 3, 'tipo': 'pantalon', 'talle': 37},\n",
       " {'id': 4, 'tipo': 'pantalon', 'talle': 38},\n",
       " {'id': 5, 'tipo': 'pantalon', 'talle': 39},\n",
       " {'id': 6, 'tipo': 'pantalon', 'talle': 40},\n",
       " {'id': 7, 'tipo': 'pantalon', 'talle': 41},\n",
       " {'id': 8, 'tipo': 'pantalon', 'talle': 42},\n",
       " {'id': 9, 'tipo': 'pantalon', 'talle': 43},\n",
       " {'id': 10, 'tipo': 'pantalon', 'talle': 44},\n",
       " {'id': 11, 'tipo': 'remera', 'talle': 'XS'},\n",
       " {'id': 12, 'tipo': 'remera', 'talle': 'S'},\n",
       " {'id': 13, 'tipo': 'remera', 'talle': 'M'},\n",
       " {'id': 14, 'tipo': 'remera', 'talle': 'L'},\n",
       " {'id': 15, 'tipo': 'remera', 'talle': 'XL'},\n",
       " {'id': 16, 'tipo': 'saco', 'talle': 'XS'},\n",
       " {'id': 17, 'tipo': 'saco', 'talle': 'S'},\n",
       " {'id': 18, 'tipo': 'saco', 'talle': 'M', 'enStock': False},\n",
       " {'id': 19, 'tipo': 'saco', 'talle': 'L'},\n",
       " {'id': 20, 'tipo': 'saco', 'talle': 'XL'},\n",
       " {'id': '21'},\n",
       " {'tipo': 'chomba', 'talle': 'XS', 'id': 'hBmOj0B'},\n",
       " {'tipo': 'chomba', 'talle': 'XS', 'id': 'k4N2jBO'},\n",
       " {'tipo': 'chomba', 'talle': 'XS', 'id': '22'},\n",
       " {'tipo': 'chomba', 'talle': 'XS', 'id': 'qKQyHVT'},\n",
       " {'tipo': 'chomba', 'talle': 'XS', 'id': '7jZ3vgN'},\n",
       " {'tipo': 'chomba', 'talle': 'XS', 'id': 'duV5ORN'}]"
      ]
     },
     "execution_count": 26,
     "metadata": {},
     "output_type": "execute_result"
    }
   ],
   "source": [
    "r=requests.get('https://macowins-server.herokuapp.com/prendas').json()\n",
    "r"
   ]
  },
  {
   "cell_type": "markdown",
   "metadata": {},
   "source": [
    "Desafío: Nos quedaron prendas con ids que no nos sirven; ¡borralas!"
   ]
  },
  {
   "cell_type": "code",
   "execution_count": 36,
   "metadata": {},
   "outputs": [
    {
     "data": {
      "text/plain": [
       "[{'id': 1, 'tipo': 'pantalon', 'talle': 35},\n",
       " {'id': 2, 'tipo': 'pantalon', 'talle': 36},\n",
       " {'id': 3, 'tipo': 'pantalon', 'talle': 37},\n",
       " {'id': 4, 'tipo': 'pantalon', 'talle': 38},\n",
       " {'id': 5, 'tipo': 'pantalon', 'talle': 39},\n",
       " {'id': 6, 'tipo': 'pantalon', 'talle': 40},\n",
       " {'id': 7, 'tipo': 'pantalon', 'talle': 41},\n",
       " {'id': 8, 'tipo': 'pantalon', 'talle': 42},\n",
       " {'id': 9, 'tipo': 'pantalon', 'talle': 43},\n",
       " {'id': 10, 'tipo': 'pantalon', 'talle': 44},\n",
       " {'id': 11, 'tipo': 'remera', 'talle': 'XS'},\n",
       " {'id': 12, 'tipo': 'remera', 'talle': 'S'},\n",
       " {'id': 13, 'tipo': 'remera', 'talle': 'M'},\n",
       " {'id': 14, 'tipo': 'remera', 'talle': 'L'},\n",
       " {'id': 15, 'tipo': 'remera', 'talle': 'XL'},\n",
       " {'id': 16, 'tipo': 'saco', 'talle': 'XS'},\n",
       " {'id': 17, 'tipo': 'saco', 'talle': 'S'},\n",
       " {'id': 18, 'tipo': 'saco', 'talle': 'M', 'enStock': False},\n",
       " {'id': 19, 'tipo': 'saco', 'talle': 'L'},\n",
       " {'id': 20, 'tipo': 'saco', 'talle': 'XL'}]"
      ]
     },
     "execution_count": 36,
     "metadata": {},
     "output_type": "execute_result"
    }
   ],
   "source": [
    "data={\"id\":'hBmOj0B', }\n",
    "requests.delete(\"https://macowins-server.herokuapp.com/prendas/22\")\n",
    "r=requests.get('https://macowins-server.herokuapp.com/prendas').json()\n",
    "r"
   ]
  },
  {
   "cell_type": "markdown",
   "metadata": {},
   "source": [
    "Desafío XIII: Creá una venta."
   ]
  },
  {
   "cell_type": "code",
   "execution_count": 70,
   "metadata": {},
   "outputs": [
    {
     "data": {
      "text/plain": [
       "<Response [201]>"
      ]
     },
     "execution_count": 70,
     "metadata": {},
     "output_type": "execute_result"
    }
   ],
   "source": [
    "data= {'id':720,\n",
    "  'producto': {'id': 789, 'tipo': 'pantalon', 'talle': 36},\n",
    "  'fecha': '1970-02-07T23:03:24.000Z'}\n",
    "headers=headers = {'Content-type': 'application/json', 'Accept': 'text/plain'}\n",
    "requests.post(\"https://macowins-server.herokuapp.com/ventas\", data= json.dumps(data), headers=headers )"
   ]
  },
  {
   "cell_type": "code",
   "execution_count": 71,
   "metadata": {},
   "outputs": [
    {
     "data": {
      "text/plain": [
       "{'id': 720,\n",
       " 'producto': {'id': 789, 'tipo': 'pantalon', 'talle': 36},\n",
       " 'fecha': '1970-02-07T23:03:24.000Z'}"
      ]
     },
     "execution_count": 71,
     "metadata": {},
     "output_type": "execute_result"
    }
   ],
   "source": [
    "requests.get(\"https://macowins-server.herokuapp.com/ventas/720\").json()"
   ]
  },
  {
   "cell_type": "markdown",
   "metadata": {},
   "source": [
    "Desafío XIV: Intentá hacer POST sobre una venta concreta, como por ejemplo https://macowins-server.herokuapp.com/prendas/1. ¿Qué sucede?"
   ]
  },
  {
   "cell_type": "code",
   "execution_count": 72,
   "metadata": {},
   "outputs": [
    {
     "data": {
      "text/plain": [
       "<Response [404]>"
      ]
     },
     "execution_count": 72,
     "metadata": {},
     "output_type": "execute_result"
    }
   ],
   "source": [
    "requests.post(\"https://macowins-server.herokuapp.com/prendas/1\")"
   ]
  },
  {
   "cell_type": "markdown",
   "metadata": {},
   "source": [
    "**REST Y SUS URLs**"
   ]
  }
 ],
 "metadata": {
  "interpreter": {
   "hash": "ad2bdc8ecc057115af97d19610ffacc2b4e99fae6737bb82f5d7fb13d2f2c186"
  },
  "kernelspec": {
   "display_name": "Python 3.9.7 ('base')",
   "language": "python",
   "name": "python3"
  },
  "language_info": {
   "codemirror_mode": {
    "name": "ipython",
    "version": 3
   },
   "file_extension": ".py",
   "mimetype": "text/x-python",
   "name": "python",
   "nbconvert_exporter": "python",
   "pygments_lexer": "ipython3",
   "version": "3.9.7"
  },
  "orig_nbformat": 4
 },
 "nbformat": 4,
 "nbformat_minor": 2
}
