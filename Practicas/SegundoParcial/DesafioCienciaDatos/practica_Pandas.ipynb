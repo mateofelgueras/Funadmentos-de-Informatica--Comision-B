{
 "cells": [
  {
   "cell_type": "markdown",
   "metadata": {},
   "source": [
    "***PANDAS1***"
   ]
  },
  {
   "cell_type": "markdown",
   "metadata": {},
   "source": [
    "EJERCICIO 1\n",
    "\n",
    "Escribí un programa que sume, reste, multiplique y divida dos series de números de Pandas."
   ]
  },
  {
   "cell_type": "code",
   "execution_count": 16,
   "metadata": {},
   "outputs": [
    {
     "data": {
      "text/plain": [
       "[4, 11, 22, 29, 40]"
      ]
     },
     "execution_count": 16,
     "metadata": {},
     "output_type": "execute_result"
    }
   ],
   "source": [
    "import pandas\n",
    "a=[3, 7, 12, 15, 21]\n",
    "b= [1, 4, 10, 14, 19]\n",
    "total=[int(a[x]) + int(b[x]) for x in range(0,len(a))]\n",
    "total"
   ]
  },
  {
   "cell_type": "code",
   "execution_count": 17,
   "metadata": {},
   "outputs": [
    {
     "data": {
      "text/plain": [
       "[2, 3, 2, 1, 2]"
      ]
     },
     "execution_count": 17,
     "metadata": {},
     "output_type": "execute_result"
    }
   ],
   "source": [
    "import pandas\n",
    "a=[3, 7, 12, 15, 21]\n",
    "b= [1, 4, 10, 14, 19]\n",
    "total= [a[x] - b[x] for x in range(len(a))]\n",
    "total"
   ]
  },
  {
   "cell_type": "code",
   "execution_count": 18,
   "metadata": {},
   "outputs": [
    {
     "data": {
      "text/plain": [
       "[3, 28, 120, 210, 399]"
      ]
     },
     "execution_count": 18,
     "metadata": {},
     "output_type": "execute_result"
    }
   ],
   "source": [
    "import pandas\n",
    "a=[3, 7, 12, 15, 21]\n",
    "b= [1, 4, 10, 14, 19]\n",
    "total= [a[x] * b[x] for x in range(len(a))]\n",
    "total"
   ]
  },
  {
   "cell_type": "code",
   "execution_count": 19,
   "metadata": {},
   "outputs": [
    {
     "data": {
      "text/plain": [
       "[3.0, 1.75, 1.2, 1.0714285714285714, 1.105263157894737]"
      ]
     },
     "execution_count": 19,
     "metadata": {},
     "output_type": "execute_result"
    }
   ],
   "source": [
    "import pandas\n",
    "a=[3, 7, 12, 15, 21]\n",
    "b= [1, 4, 10, 14, 19]\n",
    "total= [a[x] / b[x] for x in range(len(a))]\n",
    "total"
   ]
  },
  {
   "cell_type": "markdown",
   "metadata": {},
   "source": [
    "EJERCICIO 2\n",
    "\n",
    "Realizá un programa que compare (si son mayores, menores o iguales) los elementos de dos series de números de Pandas."
   ]
  },
  {
   "cell_type": "code",
   "execution_count": 38,
   "metadata": {},
   "outputs": [
    {
     "name": "stdout",
     "output_type": "stream",
     "text": [
      "MAYOR\n",
      "Igual\n",
      "Menor\n",
      "Menor\n",
      "MAYOR\n"
     ]
    }
   ],
   "source": [
    "import pandas\n",
    "c=[3, 7, 9, 14, 25]\n",
    "d= [1, 7, 10, 16, 19]\n",
    "for x in range(len(c)):\n",
    "    if c[x] > d[x]:\n",
    "        print(\"MAYOR\")\n",
    "    elif c[x] < d[x]:\n",
    "        print(\"Menor\")\n",
    "    elif c[x] == d[x]:\n",
    "        print(\"Igual\")\n",
    "    else:\n",
    "        \"No se puede\""
   ]
  },
  {
   "cell_type": "markdown",
   "metadata": {},
   "source": [
    "EJERCICIO 3\n",
    "\n",
    "Escribí un programa para convertir un diccionario a una serie de Pandas."
   ]
  },
  {
   "cell_type": "code",
   "execution_count": 39,
   "metadata": {},
   "outputs": [
    {
     "data": {
      "text/plain": [
       "a    10\n",
       "b    20\n",
       "c    30\n",
       "d    40\n",
       "e    50\n",
       "dtype: int64"
      ]
     },
     "execution_count": 39,
     "metadata": {},
     "output_type": "execute_result"
    }
   ],
   "source": [
    "import pandas as pd\n",
    "dict1 = {\"a\": 10, \"b\": 20, \"c\": 30, \"d\": 40, \"e\": 50}\n",
    "pd.Series(dict1)"
   ]
  },
  {
   "cell_type": "markdown",
   "metadata": {},
   "source": [
    "EJERCICIO 4\n",
    "\n",
    "Escribí un programa que dado un diccionario cuyos valores son listas de números, cree otro diccionario con las mismas claves, pero donde los valores sean una lista de números donde se potencia un número por el siguiente, tomándolos de a pares. Para ser más claros miremos este ejemplo donde si un diccionario es:"
   ]
  },
  {
   "cell_type": "code",
   "execution_count": 48,
   "metadata": {},
   "outputs": [],
   "source": [
    "import pandas as pd\n",
    "dict1 = {\"a\": [1,3,5,2], \"b\": [4,2,3,3]}\n",
    "for value in range(len(dict1[\"a\"])):\n",
    "    dict1[\"a\"][0] ^ dict1[\"a\"][1]\n",
    "for value1 in range(len(dict1[\"b\"])):\n",
    "    dict1[\"b\"][0]^ dict1['b'][1]\n",
    "\n",
    "\n",
    "\n"
   ]
  },
  {
   "cell_type": "markdown",
   "metadata": {},
   "source": [
    "EJERCICIO 5\n",
    "\n",
    "Realizá un programa para crear y mostrar un DataFrame a partir de un diccionario y de unas etiquetas (o labels)."
   ]
  },
  {
   "cell_type": "code",
   "execution_count": 50,
   "metadata": {},
   "outputs": [
    {
     "data": {
      "text/html": [
       "<div>\n",
       "<style scoped>\n",
       "    .dataframe tbody tr th:only-of-type {\n",
       "        vertical-align: middle;\n",
       "    }\n",
       "\n",
       "    .dataframe tbody tr th {\n",
       "        vertical-align: top;\n",
       "    }\n",
       "\n",
       "    .dataframe thead th {\n",
       "        text-align: right;\n",
       "    }\n",
       "</style>\n",
       "<table border=\"1\" class=\"dataframe\">\n",
       "  <thead>\n",
       "    <tr style=\"text-align: right;\">\n",
       "      <th></th>\n",
       "      <th>nombre</th>\n",
       "      <th>puntaje</th>\n",
       "      <th>intentos</th>\n",
       "      <th>califica</th>\n",
       "    </tr>\n",
       "  </thead>\n",
       "  <tbody>\n",
       "    <tr>\n",
       "      <th>a</th>\n",
       "      <td>Agustina</td>\n",
       "      <td>12.5</td>\n",
       "      <td>1</td>\n",
       "      <td>1</td>\n",
       "    </tr>\n",
       "    <tr>\n",
       "      <th>b</th>\n",
       "      <td>Diana</td>\n",
       "      <td>9.0</td>\n",
       "      <td>3</td>\n",
       "      <td>0</td>\n",
       "    </tr>\n",
       "    <tr>\n",
       "      <th>c</th>\n",
       "      <td>Karen</td>\n",
       "      <td>16.5</td>\n",
       "      <td>2</td>\n",
       "      <td>1</td>\n",
       "    </tr>\n",
       "    <tr>\n",
       "      <th>d</th>\n",
       "      <td>Julián</td>\n",
       "      <td>13.0</td>\n",
       "      <td>3</td>\n",
       "      <td>0</td>\n",
       "    </tr>\n",
       "    <tr>\n",
       "      <th>e</th>\n",
       "      <td>Emilio</td>\n",
       "      <td>9.0</td>\n",
       "      <td>2</td>\n",
       "      <td>0</td>\n",
       "    </tr>\n",
       "    <tr>\n",
       "      <th>f</th>\n",
       "      <td>Miguel</td>\n",
       "      <td>20.0</td>\n",
       "      <td>3</td>\n",
       "      <td>1</td>\n",
       "    </tr>\n",
       "    <tr>\n",
       "      <th>g</th>\n",
       "      <td>Mateo</td>\n",
       "      <td>14.5</td>\n",
       "      <td>1</td>\n",
       "      <td>1</td>\n",
       "    </tr>\n",
       "    <tr>\n",
       "      <th>h</th>\n",
       "      <td>Laura</td>\n",
       "      <td>10.0</td>\n",
       "      <td>1</td>\n",
       "      <td>0</td>\n",
       "    </tr>\n",
       "    <tr>\n",
       "      <th>i</th>\n",
       "      <td>Jorge</td>\n",
       "      <td>8.0</td>\n",
       "      <td>2</td>\n",
       "      <td>0</td>\n",
       "    </tr>\n",
       "    <tr>\n",
       "      <th>j</th>\n",
       "      <td>Lucas</td>\n",
       "      <td>19.0</td>\n",
       "      <td>1</td>\n",
       "      <td>1</td>\n",
       "    </tr>\n",
       "  </tbody>\n",
       "</table>\n",
       "</div>"
      ],
      "text/plain": [
       "     nombre  puntaje  intentos  califica\n",
       "a  Agustina     12.5         1         1\n",
       "b     Diana      9.0         3         0\n",
       "c     Karen     16.5         2         1\n",
       "d    Julián     13.0         3         0\n",
       "e    Emilio      9.0         2         0\n",
       "f    Miguel     20.0         3         1\n",
       "g     Mateo     14.5         1         1\n",
       "h     Laura     10.0         1         0\n",
       "i     Jorge      8.0         2         0\n",
       "j     Lucas     19.0         1         1"
      ]
     },
     "execution_count": 50,
     "metadata": {},
     "output_type": "execute_result"
    }
   ],
   "source": [
    "import pandas as pd\n",
    "datos_ejemplo = {\"nombre\": [\"Agustina\", \"Diana\", \"Karen\", \"Julián\", \"Emilio\", \"Miguel\", \"Mateo\", \"Laura\", \"Jorge\", \"Lucas\"], \"puntaje\": [12.5, 9, 16.5, 13, 9, 20, 14.5, 10, 8, 19], \"intentos\": [1, 3, 2, 3, 2, 3, 1, 1, 2, 1], \"califica\": [1, 0, 1, 0, 0, 1, 1, 0, 0, 1]}\n",
    "\n",
    "labels = [\"a\", \"b\", \"c\", \"d\", \"e\", \"f\", \"g\", \"h\", \"i\", \"j\"]\n",
    "\n",
    "DF=pd.DataFrame(datos_ejemplo, index=labels)\n",
    "DF\n"
   ]
  },
  {
   "cell_type": "markdown",
   "metadata": {},
   "source": [
    "EJERCICIO 6\n",
    "\n",
    "Escribí un programa que muestre un resumen de la información básica de un DataFrame y sus datos."
   ]
  },
  {
   "cell_type": "code",
   "execution_count": 53,
   "metadata": {},
   "outputs": [
    {
     "name": "stdout",
     "output_type": "stream",
     "text": [
      "<class 'pandas.core.frame.DataFrame'>\n",
      "Index: 10 entries, a to j\n",
      "Data columns (total 4 columns):\n",
      " #   Column    Non-Null Count  Dtype  \n",
      "---  ------    --------------  -----  \n",
      " 0   nombre    10 non-null     object \n",
      " 1   puntaje   10 non-null     float64\n",
      " 2   intentos  10 non-null     int64  \n",
      " 3   califica  10 non-null     int64  \n",
      "dtypes: float64(1), int64(2), object(1)\n",
      "memory usage: 400.0+ bytes\n"
     ]
    }
   ],
   "source": [
    "DF.info()"
   ]
  },
  {
   "cell_type": "markdown",
   "metadata": {},
   "source": [
    "EJERCICIO 7\n",
    "\n",
    "Escribí un programa que obtenga las 3 primeras filas de un DataFrame dado."
   ]
  },
  {
   "cell_type": "code",
   "execution_count": 54,
   "metadata": {},
   "outputs": [
    {
     "data": {
      "text/html": [
       "<div>\n",
       "<style scoped>\n",
       "    .dataframe tbody tr th:only-of-type {\n",
       "        vertical-align: middle;\n",
       "    }\n",
       "\n",
       "    .dataframe tbody tr th {\n",
       "        vertical-align: top;\n",
       "    }\n",
       "\n",
       "    .dataframe thead th {\n",
       "        text-align: right;\n",
       "    }\n",
       "</style>\n",
       "<table border=\"1\" class=\"dataframe\">\n",
       "  <thead>\n",
       "    <tr style=\"text-align: right;\">\n",
       "      <th></th>\n",
       "      <th>nombre</th>\n",
       "      <th>puntaje</th>\n",
       "      <th>intentos</th>\n",
       "      <th>califica</th>\n",
       "    </tr>\n",
       "  </thead>\n",
       "  <tbody>\n",
       "    <tr>\n",
       "      <th>a</th>\n",
       "      <td>Agustina</td>\n",
       "      <td>12.5</td>\n",
       "      <td>1</td>\n",
       "      <td>1</td>\n",
       "    </tr>\n",
       "    <tr>\n",
       "      <th>b</th>\n",
       "      <td>Diana</td>\n",
       "      <td>9.0</td>\n",
       "      <td>3</td>\n",
       "      <td>0</td>\n",
       "    </tr>\n",
       "    <tr>\n",
       "      <th>c</th>\n",
       "      <td>Karen</td>\n",
       "      <td>16.5</td>\n",
       "      <td>2</td>\n",
       "      <td>1</td>\n",
       "    </tr>\n",
       "  </tbody>\n",
       "</table>\n",
       "</div>"
      ],
      "text/plain": [
       "     nombre  puntaje  intentos  califica\n",
       "a  Agustina     12.5         1         1\n",
       "b     Diana      9.0         3         0\n",
       "c     Karen     16.5         2         1"
      ]
     },
     "execution_count": 54,
     "metadata": {},
     "output_type": "execute_result"
    }
   ],
   "source": [
    "DF.head(3)"
   ]
  },
  {
   "cell_type": "markdown",
   "metadata": {},
   "source": [
    "EJERCICIO 8\n",
    "\n",
    "Realizá un programa que seleccione e impirma las columnas \"nombre\" y \"puntaje\" del DataFrama anterior."
   ]
  },
  {
   "cell_type": "code",
   "execution_count": 61,
   "metadata": {},
   "outputs": [
    {
     "data": {
      "text/html": [
       "<div>\n",
       "<style scoped>\n",
       "    .dataframe tbody tr th:only-of-type {\n",
       "        vertical-align: middle;\n",
       "    }\n",
       "\n",
       "    .dataframe tbody tr th {\n",
       "        vertical-align: top;\n",
       "    }\n",
       "\n",
       "    .dataframe thead th {\n",
       "        text-align: right;\n",
       "    }\n",
       "</style>\n",
       "<table border=\"1\" class=\"dataframe\">\n",
       "  <thead>\n",
       "    <tr style=\"text-align: right;\">\n",
       "      <th></th>\n",
       "      <th>nombre</th>\n",
       "      <th>puntaje</th>\n",
       "    </tr>\n",
       "  </thead>\n",
       "  <tbody>\n",
       "    <tr>\n",
       "      <th>a</th>\n",
       "      <td>Agustina</td>\n",
       "      <td>12.5</td>\n",
       "    </tr>\n",
       "    <tr>\n",
       "      <th>b</th>\n",
       "      <td>Diana</td>\n",
       "      <td>9.0</td>\n",
       "    </tr>\n",
       "    <tr>\n",
       "      <th>c</th>\n",
       "      <td>Karen</td>\n",
       "      <td>16.5</td>\n",
       "    </tr>\n",
       "    <tr>\n",
       "      <th>d</th>\n",
       "      <td>Julián</td>\n",
       "      <td>13.0</td>\n",
       "    </tr>\n",
       "    <tr>\n",
       "      <th>e</th>\n",
       "      <td>Emilio</td>\n",
       "      <td>9.0</td>\n",
       "    </tr>\n",
       "    <tr>\n",
       "      <th>f</th>\n",
       "      <td>Miguel</td>\n",
       "      <td>20.0</td>\n",
       "    </tr>\n",
       "    <tr>\n",
       "      <th>g</th>\n",
       "      <td>Mateo</td>\n",
       "      <td>14.5</td>\n",
       "    </tr>\n",
       "    <tr>\n",
       "      <th>h</th>\n",
       "      <td>Laura</td>\n",
       "      <td>10.0</td>\n",
       "    </tr>\n",
       "    <tr>\n",
       "      <th>i</th>\n",
       "      <td>Jorge</td>\n",
       "      <td>8.0</td>\n",
       "    </tr>\n",
       "    <tr>\n",
       "      <th>j</th>\n",
       "      <td>Lucas</td>\n",
       "      <td>19.0</td>\n",
       "    </tr>\n",
       "  </tbody>\n",
       "</table>\n",
       "</div>"
      ],
      "text/plain": [
       "     nombre  puntaje\n",
       "a  Agustina     12.5\n",
       "b     Diana      9.0\n",
       "c     Karen     16.5\n",
       "d    Julián     13.0\n",
       "e    Emilio      9.0\n",
       "f    Miguel     20.0\n",
       "g     Mateo     14.5\n",
       "h     Laura     10.0\n",
       "i     Jorge      8.0\n",
       "j     Lucas     19.0"
      ]
     },
     "execution_count": 61,
     "metadata": {},
     "output_type": "execute_result"
    }
   ],
   "source": [
    "DF[[\"nombre\", \"puntaje\"]]"
   ]
  },
  {
   "cell_type": "markdown",
   "metadata": {},
   "source": [
    "EJERCICIO 9\n",
    "\n",
    "Escribí un programa que dado el DataFrame anterior imprima los nombres en mayúscula y la longitud de los mismos en una nueva tabla"
   ]
  },
  {
   "cell_type": "code",
   "execution_count": 79,
   "metadata": {},
   "outputs": [
    {
     "data": {
      "text/html": [
       "<div>\n",
       "<style scoped>\n",
       "    .dataframe tbody tr th:only-of-type {\n",
       "        vertical-align: middle;\n",
       "    }\n",
       "\n",
       "    .dataframe tbody tr th {\n",
       "        vertical-align: top;\n",
       "    }\n",
       "\n",
       "    .dataframe thead th {\n",
       "        text-align: right;\n",
       "    }\n",
       "</style>\n",
       "<table border=\"1\" class=\"dataframe\">\n",
       "  <thead>\n",
       "    <tr style=\"text-align: right;\">\n",
       "      <th></th>\n",
       "      <th>Nombre</th>\n",
       "      <th>Largo</th>\n",
       "    </tr>\n",
       "  </thead>\n",
       "  <tbody>\n",
       "    <tr>\n",
       "      <th>0</th>\n",
       "      <td>AGUSTINA</td>\n",
       "      <td>8</td>\n",
       "    </tr>\n",
       "    <tr>\n",
       "      <th>1</th>\n",
       "      <td>DIANA</td>\n",
       "      <td>5</td>\n",
       "    </tr>\n",
       "    <tr>\n",
       "      <th>2</th>\n",
       "      <td>KAREN</td>\n",
       "      <td>5</td>\n",
       "    </tr>\n",
       "    <tr>\n",
       "      <th>3</th>\n",
       "      <td>JULIÁN</td>\n",
       "      <td>6</td>\n",
       "    </tr>\n",
       "    <tr>\n",
       "      <th>4</th>\n",
       "      <td>EMILIO</td>\n",
       "      <td>6</td>\n",
       "    </tr>\n",
       "    <tr>\n",
       "      <th>5</th>\n",
       "      <td>MIGUEL</td>\n",
       "      <td>6</td>\n",
       "    </tr>\n",
       "    <tr>\n",
       "      <th>6</th>\n",
       "      <td>MATEO</td>\n",
       "      <td>5</td>\n",
       "    </tr>\n",
       "    <tr>\n",
       "      <th>7</th>\n",
       "      <td>LAURA</td>\n",
       "      <td>5</td>\n",
       "    </tr>\n",
       "    <tr>\n",
       "      <th>8</th>\n",
       "      <td>JORGE</td>\n",
       "      <td>5</td>\n",
       "    </tr>\n",
       "    <tr>\n",
       "      <th>9</th>\n",
       "      <td>LUCAS</td>\n",
       "      <td>5</td>\n",
       "    </tr>\n",
       "  </tbody>\n",
       "</table>\n",
       "</div>"
      ],
      "text/plain": [
       "     Nombre  Largo\n",
       "0  AGUSTINA      8\n",
       "1     DIANA      5\n",
       "2     KAREN      5\n",
       "3    JULIÁN      6\n",
       "4    EMILIO      6\n",
       "5    MIGUEL      6\n",
       "6     MATEO      5\n",
       "7     LAURA      5\n",
       "8     JORGE      5\n",
       "9     LUCAS      5"
      ]
     },
     "execution_count": 79,
     "metadata": {},
     "output_type": "execute_result"
    }
   ],
   "source": [
    "df=pd.DataFrame(columns=[\"Nombre\", \"Largo\"])\n",
    "nombre1=[]\n",
    "largo=[]\n",
    "for nombre in DF[\"nombre\"]:\n",
    "    nombre1.append(str.upper(nombre))\n",
    "    largo.append(len(nombre))\n",
    "df[\"Nombre\"]=nombre1\n",
    "df[\"Largo\"]=largo\n",
    "df"
   ]
  },
  {
   "cell_type": "markdown",
   "metadata": {},
   "source": [
    "***PANDAS2***"
   ]
  },
  {
   "cell_type": "markdown",
   "metadata": {},
   "source": [
    "EJERCICIO 1\n",
    "\n",
    "Escribí un programa que dado un diccionario cuyos valores sean listas de números cree un DataFrame y luego seleccione e imprima las filas del DataFrame basado en un valor de una columna."
   ]
  },
  {
   "cell_type": "code",
   "execution_count": 85,
   "metadata": {},
   "outputs": [
    {
     "data": {
      "text/plain": [
       "5"
      ]
     },
     "execution_count": 85,
     "metadata": {},
     "output_type": "execute_result"
    }
   ],
   "source": [
    "dic = {1: [1, 4, 3, 4, 5], 2: [4, 5, 6, 7, 8], 3: [7, 8, 9, 0, 1]}\n",
    "df1=pd.DataFrame(dic)\n",
    "df1.iloc[4,0]"
   ]
  },
  {
   "cell_type": "markdown",
   "metadata": {},
   "source": [
    "EJERCICIO 2\n",
    "\n",
    "Escribí un programa que guarde en una lista una columna de un DataFrame."
   ]
  },
  {
   "cell_type": "code",
   "execution_count": 87,
   "metadata": {},
   "outputs": [
    {
     "data": {
      "text/plain": [
       "[0    1\n",
       " 1    4\n",
       " 2    3\n",
       " 3    4\n",
       " 4    5\n",
       " Name: 1, dtype: int64]"
      ]
     },
     "execution_count": 87,
     "metadata": {},
     "output_type": "execute_result"
    }
   ],
   "source": [
    "LISTA=[]\n",
    "LISTA.append(df1[1])\n",
    "LISTA"
   ]
  },
  {
   "cell_type": "markdown",
   "metadata": {},
   "source": [
    "EJERCICIO 3\n",
    "\n",
    "Realizá un programa que agregue datos a un DataFrame vacío."
   ]
  },
  {
   "cell_type": "code",
   "execution_count": 93,
   "metadata": {},
   "outputs": [
    {
     "data": {
      "text/html": [
       "<div>\n",
       "<style scoped>\n",
       "    .dataframe tbody tr th:only-of-type {\n",
       "        vertical-align: middle;\n",
       "    }\n",
       "\n",
       "    .dataframe tbody tr th {\n",
       "        vertical-align: top;\n",
       "    }\n",
       "\n",
       "    .dataframe thead th {\n",
       "        text-align: right;\n",
       "    }\n",
       "</style>\n",
       "<table border=\"1\" class=\"dataframe\">\n",
       "  <thead>\n",
       "    <tr style=\"text-align: right;\">\n",
       "      <th></th>\n",
       "      <th>columna</th>\n",
       "    </tr>\n",
       "  </thead>\n",
       "  <tbody>\n",
       "    <tr>\n",
       "      <th>0</th>\n",
       "      <td>data</td>\n",
       "    </tr>\n",
       "  </tbody>\n",
       "</table>\n",
       "</div>"
      ],
      "text/plain": [
       "  columna\n",
       "0    data"
      ]
     },
     "execution_count": 93,
     "metadata": {},
     "output_type": "execute_result"
    }
   ],
   "source": [
    "df2=pd.DataFrame()\n",
    "df2[\"columna\"]=[\"data\"]\n",
    "df2"
   ]
  },
  {
   "cell_type": "markdown",
   "metadata": {},
   "source": [
    "EJERCICIO 4\n",
    "\n",
    "Escribí un programa que elimine las primeras n filas de un DataFrame. Pista: el DataFrame original no debe modificarse."
   ]
  },
  {
   "cell_type": "code",
   "execution_count": 98,
   "metadata": {},
   "outputs": [
    {
     "name": "stdout",
     "output_type": "stream",
     "text": [
      "   Nombre  Largo\n",
      "1   DIANA      5\n",
      "2   KAREN      5\n",
      "3  JULIÁN      6\n",
      "4  EMILIO      6\n",
      "5  MIGUEL      6\n",
      "6   MATEO      5\n",
      "7   LAURA      5\n",
      "8   JORGE      5\n",
      "9   LUCAS      5\n"
     ]
    }
   ],
   "source": [
    "def eliminarfilas(n):\n",
    "    dfdrop = df.drop(range(n))\n",
    "    print(dfdrop)\n",
    "\n",
    "eliminarfilas(1)"
   ]
  },
  {
   "cell_type": "markdown",
   "metadata": {},
   "source": [
    "EJERCICIO 5\n",
    "\n",
    "Realizá un programa que verifique si una columna dada se encuentra presente en un DataFrame."
   ]
  },
  {
   "cell_type": "code",
   "execution_count": 104,
   "metadata": {},
   "outputs": [
    {
     "name": "stdout",
     "output_type": "stream",
     "text": [
      "False\n"
     ]
    }
   ],
   "source": [
    "def columna(nombrecolumna):\n",
    "    print(nombrecolumna in df.columns)\n",
    "\n",
    "columna(\"Lago\")"
   ]
  },
  {
   "cell_type": "markdown",
   "metadata": {},
   "source": [
    "EJERCICIO 6\n",
    "\n",
    "Escribí un programa que dado dos diccionarios genere dos DataFrame y los una tanto en el eje de las columnas como en el eje de las filas."
   ]
  },
  {
   "cell_type": "code",
   "execution_count": 119,
   "metadata": {},
   "outputs": [
    {
     "name": "stdout",
     "output_type": "stream",
     "text": [
      "     nombre Sexo  Edad  puntaje  intentos  califica\n",
      "0  Agustina    F     1     12.5         1         1\n",
      "1     Diana    F     2      9.0         3         0\n",
      "2     Karen    F     3     16.5         2         1\n",
      "3    Julián    M     4     13.0         3         0\n",
      "4    Emilio    M     5      9.0         2         0\n",
      "5    Miguel    M     6     20.0         3         1\n",
      "6     Mateo    M     7     14.5         1         1\n",
      "7     Laura    F     8     10.0         1         0\n",
      "8     Jorge    M     9      8.0         2         0\n",
      "9     Lucas    M    10     19.0         1         1\n"
     ]
    }
   ],
   "source": [
    "datos_ejemplo1={\"nombre\": [\"Agustina\", \"Diana\", \"Karen\", \"Julián\", \"Emilio\", \"Miguel\", \"Mateo\", \"Laura\", \"Jorge\", \"Lucas\"], \"Sexo\": [\"F\", \"F\", \"F\", \"M\", \"M\", \"M\", \"M\", \"F\", \"M\", \"M\"], \"Edad\": [1,2,3,4,5,6,7,8,9,10]}\n",
    "datos_ejemplo\n",
    "def dicendf(dic1,dic2):\n",
    "    m=pd.DataFrame(dic1)\n",
    "    y=pd.DataFrame(dic2)\n",
    "    z=pd.merge(m,y)\n",
    "    print(z)\n",
    "\n",
    "dicendf(datos_ejemplo1, datos_ejemplo)"
   ]
  },
  {
   "cell_type": "markdown",
   "metadata": {},
   "source": [
    "EJERCICIO 7\n",
    "\n",
    "Creá un programa que dado un diccionario y una lista añada está última al DataFrame generado a partir del diccionario."
   ]
  },
  {
   "cell_type": "code",
   "execution_count": 111,
   "metadata": {},
   "outputs": [
    {
     "name": "stdout",
     "output_type": "stream",
     "text": [
      "     nombre Sexo  Columna_lista\n",
      "0  Agustina    F              1\n",
      "1     Diana    F              2\n",
      "2     Karen    F              3\n",
      "3    Julián    M              4\n",
      "4    Emilio    M              5\n",
      "5    Miguel    M              6\n",
      "6     Mateo    M              7\n",
      "7     Laura    F              8\n",
      "8     Jorge    M              9\n",
      "9     Lucas    M             10\n"
     ]
    }
   ],
   "source": [
    "lista=[1,2,3,4,5,6,7,8,9,10]\n",
    "def agregarlista(dic1, lista1):\n",
    "    t=pd.DataFrame(dic1)\n",
    "    t[\"Columna_lista\"]= lista1\n",
    "    print(t)\n",
    "\n",
    "agregarlista(datos_ejemplo1, lista )"
   ]
  },
  {
   "cell_type": "markdown",
   "metadata": {},
   "source": [
    "EJERCICIO 8\n",
    "\n",
    "Realizá un programa que dado dos DataFrames genere otro que contenga solo las columnas en común."
   ]
  },
  {
   "cell_type": "code",
   "execution_count": 121,
   "metadata": {},
   "outputs": [
    {
     "data": {
      "text/html": [
       "<div>\n",
       "<style scoped>\n",
       "    .dataframe tbody tr th:only-of-type {\n",
       "        vertical-align: middle;\n",
       "    }\n",
       "\n",
       "    .dataframe tbody tr th {\n",
       "        vertical-align: top;\n",
       "    }\n",
       "\n",
       "    .dataframe thead th {\n",
       "        text-align: right;\n",
       "    }\n",
       "</style>\n",
       "<table border=\"1\" class=\"dataframe\">\n",
       "  <thead>\n",
       "    <tr style=\"text-align: right;\">\n",
       "      <th></th>\n",
       "      <th>nombre</th>\n",
       "      <th>puntaje</th>\n",
       "      <th>intentos</th>\n",
       "      <th>califica</th>\n",
       "      <th>Edad</th>\n",
       "    </tr>\n",
       "  </thead>\n",
       "  <tbody>\n",
       "    <tr>\n",
       "      <th>0</th>\n",
       "      <td>Agustina</td>\n",
       "      <td>12.5</td>\n",
       "      <td>1</td>\n",
       "      <td>1</td>\n",
       "      <td>1</td>\n",
       "    </tr>\n",
       "    <tr>\n",
       "      <th>1</th>\n",
       "      <td>Diana</td>\n",
       "      <td>9.0</td>\n",
       "      <td>3</td>\n",
       "      <td>0</td>\n",
       "      <td>2</td>\n",
       "    </tr>\n",
       "    <tr>\n",
       "      <th>2</th>\n",
       "      <td>Karen</td>\n",
       "      <td>16.5</td>\n",
       "      <td>2</td>\n",
       "      <td>1</td>\n",
       "      <td>3</td>\n",
       "    </tr>\n",
       "    <tr>\n",
       "      <th>3</th>\n",
       "      <td>Julián</td>\n",
       "      <td>13.0</td>\n",
       "      <td>3</td>\n",
       "      <td>0</td>\n",
       "      <td>4</td>\n",
       "    </tr>\n",
       "    <tr>\n",
       "      <th>4</th>\n",
       "      <td>Emilio</td>\n",
       "      <td>9.0</td>\n",
       "      <td>2</td>\n",
       "      <td>0</td>\n",
       "      <td>5</td>\n",
       "    </tr>\n",
       "    <tr>\n",
       "      <th>5</th>\n",
       "      <td>Miguel</td>\n",
       "      <td>20.0</td>\n",
       "      <td>3</td>\n",
       "      <td>1</td>\n",
       "      <td>6</td>\n",
       "    </tr>\n",
       "    <tr>\n",
       "      <th>6</th>\n",
       "      <td>Mateo</td>\n",
       "      <td>14.5</td>\n",
       "      <td>1</td>\n",
       "      <td>1</td>\n",
       "      <td>7</td>\n",
       "    </tr>\n",
       "    <tr>\n",
       "      <th>7</th>\n",
       "      <td>Laura</td>\n",
       "      <td>10.0</td>\n",
       "      <td>1</td>\n",
       "      <td>0</td>\n",
       "      <td>8</td>\n",
       "    </tr>\n",
       "    <tr>\n",
       "      <th>8</th>\n",
       "      <td>Jorge</td>\n",
       "      <td>8.0</td>\n",
       "      <td>2</td>\n",
       "      <td>0</td>\n",
       "      <td>9</td>\n",
       "    </tr>\n",
       "    <tr>\n",
       "      <th>9</th>\n",
       "      <td>Lucas</td>\n",
       "      <td>19.0</td>\n",
       "      <td>1</td>\n",
       "      <td>1</td>\n",
       "      <td>10</td>\n",
       "    </tr>\n",
       "  </tbody>\n",
       "</table>\n",
       "</div>"
      ],
      "text/plain": [
       "     nombre  puntaje  intentos  califica  Edad\n",
       "0  Agustina     12.5         1         1     1\n",
       "1     Diana      9.0         3         0     2\n",
       "2     Karen     16.5         2         1     3\n",
       "3    Julián     13.0         3         0     4\n",
       "4    Emilio      9.0         2         0     5\n",
       "5    Miguel     20.0         3         1     6\n",
       "6     Mateo     14.5         1         1     7\n",
       "7     Laura     10.0         1         0     8\n",
       "8     Jorge      8.0         2         0     9\n",
       "9     Lucas     19.0         1         1    10"
      ]
     },
     "execution_count": 121,
     "metadata": {},
     "output_type": "execute_result"
    }
   ],
   "source": [
    "datos_ejemplo11=datos_ejemplo\n",
    "datos_ejemplo11[\"Edad\"]=[1,2,3,4,5,6,7,8,9,10]\n",
    "df11= pd.DataFrame(datos_ejemplo11)\n",
    "df111= pd.DataFrame(datos_ejemplo1) \n",
    "df11\n"
   ]
  },
  {
   "cell_type": "code",
   "execution_count": 122,
   "metadata": {},
   "outputs": [
    {
     "name": "stdout",
     "output_type": "stream",
     "text": [
      "     nombre  Edad\n",
      "0  Agustina     1\n",
      "1     Diana     2\n",
      "2     Karen     3\n",
      "3    Julián     4\n",
      "4    Emilio     5\n",
      "5    Miguel     6\n",
      "6     Mateo     7\n",
      "7     Laura     8\n",
      "8     Jorge     9\n",
      "9     Lucas    10\n",
      "0  Agustina     1\n",
      "1     Diana     2\n",
      "2     Karen     3\n",
      "3    Julián     4\n",
      "4    Emilio     5\n",
      "5    Miguel     6\n",
      "6     Mateo     7\n",
      "7     Laura     8\n",
      "8     Jorge     9\n",
      "9     Lucas    10\n"
     ]
    }
   ],
   "source": [
    "def unirdf(df1, df2):\n",
    "    df3=pd.concat([df1, df2], join= \"inner\" )\n",
    "    print(df3)\n",
    "unirdf(df11, df111)"
   ]
  }
 ],
 "metadata": {
  "kernelspec": {
   "display_name": "Python 3.9.7 ('base')",
   "language": "python",
   "name": "python3"
  },
  "language_info": {
   "codemirror_mode": {
    "name": "ipython",
    "version": 3
   },
   "file_extension": ".py",
   "mimetype": "text/x-python",
   "name": "python",
   "nbconvert_exporter": "python",
   "pygments_lexer": "ipython3",
   "version": "3.9.7"
  },
  "orig_nbformat": 4,
  "vscode": {
   "interpreter": {
    "hash": "ad2bdc8ecc057115af97d19610ffacc2b4e99fae6737bb82f5d7fb13d2f2c186"
   }
  }
 },
 "nbformat": 4,
 "nbformat_minor": 2
}
